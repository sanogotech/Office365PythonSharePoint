{
 "cells": [
  {
   "cell_type": "code",
   "execution_count": 1,
   "id": "6346fd88-4449-4f98-ad57-6d6b07d68611",
   "metadata": {
    "tags": []
   },
   "outputs": [],
   "source": [
    "# IMPORT THE REQUIRED LIBRARIES\n",
    "\n",
    "from kfp.v2 import dsl\n",
    "from kfp.v2.dsl import (Artifact,\n",
    "                        Dataset,\n",
    "                        Input,\n",
    "                        Output,\n",
    "                        Model,\n",
    "                        Metrics,\n",
    "                        Markdown,\n",
    "                        HTML,\n",
    "                        component, \n",
    "                        OutputPath, \n",
    "                        InputPath)\n",
    "\n",
    "from kfp.v2 import compiler\n",
    "from google.cloud import aiplatform as vertex_ai\n",
    "from google.cloud.aiplatform import pipeline_jobs\n",
    "\n",
    "from datetime import datetime\n",
    "import pandas as pd"
   ]
  },
  {
   "cell_type": "raw",
   "id": "f625bec7-da16-4dcb-989a-3c540ac4097c",
   "metadata": {
    "tags": []
   },
   "source": [
    "# SET UP GLOBAL VARIABLES\n",
    "PATH=%env PATH\n",
    "%env PATH={PATH}:/home/jupyter/.local/bin\n",
    "REGION=\"europe-west2\"\n",
    "\n",
    "# Get projet name\n",
    "shell_output=!gcloud config get-value project 2> /dev/null\n",
    "PROJECT_ID=shell_output[0]\n",
    "\n",
    "# Set bucket name\n",
    "#BUCKET_NAME=\"gs://\"+PROJECT_ID+\"-houseprice\"\n",
    "BUCKET_NAME=\"gs://\"+PROJECT_ID+\"-test\"\n",
    "\n",
    "# Create bucket\n",
    "PIPELINE_ROOT = f\"{BUCKET_NAME}/pipeline_root_test/\"\n",
    "PIPELINE_ROOT"
   ]
  },
  {
   "cell_type": "code",
   "execution_count": 2,
   "id": "464ebd11-8baa-4718-9474-c60029bd50cf",
   "metadata": {},
   "outputs": [],
   "source": [
    "PROJECT_ID = 'gb-lab-bm-risk-sel-41'\n",
    "REGION = 'europe-west2'\n",
    "\n",
    "#BUCKET_NAME=\"gs://\"+PROJECT_ID+\"-houseprice\"\n",
    "BUCKET_NAME=\"gs://\"+PROJECT_ID+\"-test\"\n",
    "\n",
    "PIPELINE_ROOT = f\"{BUCKET_NAME}/pipeline_root_houseprice/\"\n",
    "#PIPELINE_ROOT = f\"{BUCKET_NAME}/pipeline_root_test/\""
   ]
  },
  {
   "cell_type": "code",
   "execution_count": 3,
   "id": "aa256b10-8d61-4811-8f79-c74e9fb7415f",
   "metadata": {},
   "outputs": [],
   "source": [
    "# Custom base image created using docker\n",
    "\n",
    "IMAGE_NAME = \"training\"\n",
    "#BASE_IMAGE = f\"{REGION}-docker.pkg.dev/{PROJECT_ID}/test/{IMAGE_NAME}\"\n",
    "BASE_IMAGE = f\"{REGION}-docker.pkg.dev/{PROJECT_ID}/houseprice/{IMAGE_NAME}\""
   ]
  },
  {
   "cell_type": "markdown",
   "id": "a974e8d1-7f11-4f4a-bcce-40bf806764ea",
   "metadata": {},
   "source": [
    "<b>TO TEST THE PIPELINE WE ARE USING A LEARNING RATE OF 1 FOR BOTH RFE AND MODEL TRAINING, CHANGE IT LATER.</b>"
   ]
  },
  {
   "cell_type": "markdown",
   "id": "0de3669d-1492-40c1-8a76-8e1f9fc6303c",
   "metadata": {},
   "source": [
    "## Read the Dataset"
   ]
  },
  {
   "cell_type": "code",
   "execution_count": 4,
   "id": "44994e3d-4863-4162-8aa5-2277b100bacb",
   "metadata": {
    "tags": []
   },
   "outputs": [],
   "source": [
    "@component(\n",
    "    base_image=BASE_IMAGE,\n",
    "    output_component_file=\"get_data.yaml\"\n",
    ")\n",
    "\n",
    "def get_houseprice_data(\n",
    "    filepath: str,\n",
    "    dataset_train: Output[Dataset],\n",
    "):\n",
    "    \n",
    "    import pandas as pd\n",
    "    \n",
    "    df_train = pd.read_csv(filepath + '/train.csv')\n",
    "    #df_train = df_train.iloc[:20,:]\n",
    "   \n",
    "    df_train.to_csv(dataset_train.path, index=False)"
   ]
  },
  {
   "cell_type": "markdown",
   "id": "fdffe733-1425-4ba2-b26e-2b2feea2dd85",
   "metadata": {},
   "source": [
    "## Data Preprocessing"
   ]
  },
  {
   "cell_type": "code",
   "execution_count": 5,
   "id": "d8706056-fa1d-4de9-ba93-2aaf278bb714",
   "metadata": {},
   "outputs": [],
   "source": [
    "@component(\n",
    "    base_image=BASE_IMAGE,\n",
    "    output_component_file=\"preprocessing.yaml\"\n",
    ")\n",
    "\n",
    "def preprocess_houseprice_data(\n",
    "    train_df: Input[Dataset],\n",
    "    dataset_train_preprocessed: Output[Dataset],\n",
    "):\n",
    "    \n",
    "    import pandas as pd\n",
    "    from src.data_preprocessing.preprocessing import data_preprocessing_pipeline\n",
    "   \n",
    "    train_df = pd.read_csv(train_df.path)\n",
    "    \n",
    "    # data_preprocessing_pipeline creates a copy of the df, removes id col, converts to correct dtype, \\\n",
    "    # subtracts YearSold from temporal features and cosine transforms cyclic features.\n",
    "    train_df_preprocessed = data_preprocessing_pipeline(train_df)\n",
    "    \n",
    "    train_df_preprocessed.to_csv(dataset_train_preprocessed.path, index=False)"
   ]
  },
  {
   "cell_type": "markdown",
   "id": "123800b9-1c48-45e8-af1f-47afdae177b5",
   "metadata": {},
   "source": [
    "## Train Test Split"
   ]
  },
  {
   "cell_type": "code",
   "execution_count": 6,
   "id": "077a6c11-4d41-4bb6-8b3e-d45ea4ce65f4",
   "metadata": {},
   "outputs": [],
   "source": [
    "@component(\n",
    "    base_image=BASE_IMAGE,\n",
    "    output_component_file=\"train_test_split.yaml\",\n",
    ")\n",
    "def train_test_split(dataset_in: Input[Dataset],\n",
    "                     dataset_train: Output[Dataset],\n",
    "                     dataset_test: Output[Dataset],\n",
    "                     test_size: float = 0.2):\n",
    "\n",
    "    import pandas as pd\n",
    "    from sklearn.model_selection import train_test_split\n",
    "\n",
    "    df = pd.read_csv(dataset_in.path)\n",
    "    df_train, df_test = train_test_split(df, test_size=test_size, random_state=42)\n",
    "\n",
    "    df_train.to_csv(dataset_train.path, index=False)\n",
    "    df_test.to_csv(dataset_test.path, index=False)"
   ]
  },
  {
   "cell_type": "markdown",
   "id": "21268234-1aed-4c8a-87e9-5f4926fc9de4",
   "metadata": {},
   "source": [
    "## Feature Engineering and Feature Selection"
   ]
  },
  {
   "cell_type": "raw",
   "id": "0301a4b9-53df-4f69-9c69-3dcbb3496f7d",
   "metadata": {
    "tags": []
   },
   "source": [
    "@component(\n",
    "    base_image=BASE_IMAGE,\n",
    "    output_component_file=\"feature_eng_and_selection.yaml\"\n",
    ")\n",
    "\n",
    "\n",
    "def feat_engineering_and_selection(\n",
    "    train_df: Input[Dataset],\n",
    "    valid_df: Input[Dataset],\n",
    "    test_df: Input[Dataset],\n",
    "    train_feat_eng_df: Output[Dataset],\n",
    "    valid_feat_eng_df: Output[Dataset],\n",
    "    test_feat_eng_df: Output[Dataset]\n",
    "):\n",
    "    \n",
    "    import pandas as pd\n",
    "    import numpy as np\n",
    "    from src.data_preprocessing.feat_eng import RareCatLabelsHandler, CustomOneHotEncoder, save_feat_eng_df\n",
    "    from src.data_preprocessing.rfe import RfeFeatureSelector    \n",
    "    from sklearn.pipeline import Pipeline\n",
    "    \n",
    "    train_df = pd.read_csv(train_df.path)\n",
    "    valid_df = pd.read_csv(valid_df.path)\n",
    "    test_df = pd.read_csv(test_df.path)\n",
    "    \n",
    "    X_train = train_df.drop('SalePrice', axis=1).copy()\n",
    "    y_train = train_df['SalePrice']\n",
    "    \n",
    "    X_valid = valid_df.drop('SalePrice', axis=1).copy()\n",
    "    y_valid = valid_df['SalePrice']\n",
    "\n",
    "    X_test = test_df.copy()   \n",
    "    \n",
    "    # For numerical columns, we pass all of them (not just the ones with missing valuees)\n",
    "    # As IterativeImputer models each feature with missing values as a function of all other features\n",
    "    #numeric_features = list(X_train.select_dtypes(np.number).columns)\n",
    "    \n",
    "    # For some columns, NaN values, instead of indicating the absence of data, have an actual meaning such as No Alley\n",
    "    # Therefore, we will replace such NaN values by None\n",
    "    # We go through each categorical col. with missing values one by one to identify the ones where NaN values mean something\n",
    "#     cat_features1 = ['Alley',\n",
    "#                      'BsmtQual',\n",
    "#                      'BsmtCond',\n",
    "#                      'BsmtExposure',\n",
    "#                      'BsmtFinType1',\n",
    "#                      'BsmtFinType2',\n",
    "#                      'FireplaceQu',\n",
    "#                      'GarageType',\n",
    "#                      'GarageFinish',\n",
    "#                      'GarageQual',\n",
    "#                      'GarageCond',\n",
    "#                      'PoolQC',\n",
    "#                      'Fence',\n",
    "#                      'MiscFeature'\n",
    "#                     ]\n",
    "    \n",
    "#     # For categorical variables where NaN values just indicate the absence of data, we will replace with the Mode of the column\n",
    "#     cat_features2 = ['MSZoning',\n",
    "#                     'Utilities',\n",
    "#                     'Exterior1st',\n",
    "#                     'Exterior2nd',\n",
    "#                     'MasVnrType',\n",
    "#                     'Electrical',\n",
    "#                     'KitchenQual',\n",
    "#                     'Functional',\n",
    "#                     'SaleType'\n",
    "#                    ]\n",
    "    \n",
    "    cat_features = X_train.select_dtypes(object).columns.tolist()  \n",
    "    \n",
    "    # Define the pipeline\n",
    "    pipe = Pipeline([\n",
    "    ('rare_cat_handler', RareCatLabelsHandler(cat_features)), \n",
    "    ('cat_encoder', CustomOneHotEncoder(cat_features)),\n",
    "    ('feature_selector', RfeFeatureSelector(cross_validation=False))\n",
    "    ])\n",
    "    \n",
    "    X_train_eng = pipe.fit_transform(X_train_eng, y=y_train)\n",
    "    X_valid_eng = pipe.transform(X_valid_eng)\n",
    "    X_test_eng = pipe.transform(X_test_eng)\n",
    "    \n",
    "    save_feat_eng_df(train_feat_eng_df.path, X_train_eng, target=y_train)\n",
    "    save_feat_eng_df(valid_feat_eng_df.path, X_valid_eng, target=y_valid)\n",
    "    save_feat_eng_df(test_feat_eng_df.path, X_test_eng)\n",
    "    "
   ]
  },
  {
   "cell_type": "markdown",
   "id": "76699abc-7fa8-41d3-a045-cb183d8a7944",
   "metadata": {},
   "source": [
    "## Train the Model"
   ]
  },
  {
   "cell_type": "code",
   "execution_count": 7,
   "id": "79f86450-1528-432a-ae63-43df3f5e1350",
   "metadata": {},
   "outputs": [],
   "source": [
    "@component(\n",
    "    base_image=BASE_IMAGE,\n",
    "    output_component_file=\"model_training.yaml\"\n",
    ")\n",
    "\n",
    "def train_houseprice(\n",
    "    dataset_train: Input[Dataset],\n",
    "    dataset_test: Input[Dataset],\n",
    "    best_params: Output[Markdown],\n",
    "    shap_summary_plot: Output[HTML],\n",
    "    model: Output[Model], \n",
    "):\n",
    "    \n",
    "    import pandas as pd\n",
    "    import pickle\n",
    "    import shap\n",
    "    from src.modelling.train import HousePriceModel\n",
    "    from src.utils.utils import get_image_data\n",
    "    \n",
    "    TARGET = 'SalePrice'\n",
    "\n",
    "    # Read train and test data\n",
    "    train_data = pd.read_csv(dataset_train.path)\n",
    "    test_data = pd.read_csv(dataset_test.path)\n",
    "    \n",
    "    # Instantiate the model class\n",
    "    house_price_model = HousePriceModel(test_data.copy(),\n",
    "                                        target=TARGET,\n",
    "                                        n_kfold_splits=2,\n",
    "                                        n_trials=1,  #CHANGE THIS\n",
    "                                        random_state=42)\n",
    "    # Create X_train and y_train\n",
    "    X_train = train_data.drop(TARGET, axis=1)\n",
    "    y_train = train_data[TARGET]\n",
    "\n",
    "    # Fit the model\n",
    "    house_price_model.fit(X_train, y_train)\n",
    "    \n",
    "    # Save artifacts\n",
    "    with open(best_params.path, \"w\") as f:\n",
    "        f.write(str(house_price_model.best_params))\n",
    "        \n",
    "    shap.summary_plot(house_price_model.shap_values, house_price_model.X_test_transformed, max_display=20) # plot shap summary plot\n",
    "    shap_plot_dataurl = get_image_data() # get image data to render the image in the html file\n",
    "    html_content = f'<html><head></head><body><h1>Shap Summary Plot</h1>\\n<img src={shap_plot_dataurl} width=\"97%\"></body></html>' \n",
    "    with open(shap_summary_plot.path, \"w\") as f: # save shap summary plot as an html artifact\n",
    "        f.write(html_content)\n",
    "      \n",
    "    model.metadata[\"framework\"] = \"xgboost\" \n",
    "    with open(model.path, 'wb') as f: \n",
    "        pickle.dump({\n",
    "            \"pipeline\": house_price_model.model_pipeline,\n",
    "            \"target\": house_price_model.target,\n",
    "            \"scores_dict\": house_price_model.scores}, f)"
   ]
  },
  {
   "cell_type": "code",
   "execution_count": null,
   "id": "ef3ce3db-707d-4588-9dc1-d7863e79eb3c",
   "metadata": {},
   "outputs": [],
   "source": [
    "@component(\n",
    "    base_image=BASE_IMAGE,\n",
    "    output_component_file=\"model_training.yaml\"\n",
    ")\n",
    "\n",
    "def train_houseprice(\n",
    "    dataset_train: Input[Dataset],\n",
    "    dataset_test: Input[Dataset],\n",
    "    best_params: Output[Markdown],\n",
    "    shap_summary_plot: Output[HTML],\n",
    "    model: Output[Model], \n",
    "):\n",
    "    \n",
    "    import pandas as pd\n",
    "    import pickle\n",
    "    import shap\n",
    "    from src.modelling.train import HousePriceModel\n",
    "    from src.utils.utils import get_image_data\n",
    "    \n",
    "    TARGET = 'SalePrice'\n",
    "\n",
    "    # Read train and test data\n",
    "    train_data = pd.read_csv(dataset_train.path)\n",
    "    test_data = pd.read_csv(dataset_test.path)\n",
    "    \n",
    "    # Instantiate the model class\n",
    "    house_price_model = HousePriceModel(test_data.copy(),   #we perform hyperparameter tuning using train_data and evaluate using test_data and finally train the final model using the entire (train+test) dataset.\n",
    "                                        target=TARGET,\n",
    "                                        n_kfold_splits=3,\n",
    "                                        n_trials=100, \n",
    "                                        random_state=42)\n",
    "                                        \n",
    "    # Create X_train and y_train\n",
    "    X_train = train_data.drop(TARGET, axis=1)\n",
    "    y_train = train_data[TARGET]\n",
    "\n",
    "    # Fit the model (training pipeline consists of feature engineering, feature selection and training an xgboost model)\n",
    "    house_price_model.fit(X_train, y_train)\n",
    "    \n",
    "    # Save the best hyperparameters as an artifact\n",
    "    with open(best_params.path, \"w\") as f:\n",
    "        f.write(str(house_price_model.best_params))\n",
    "        \n",
    "    shap.summary_plot(house_price_model.shap_values, house_price_model.X_test_transformed, max_display=20) # plot shap summary plot\n",
    "    shap_plot_dataurl = get_image_data() # get image data to render the image in the html file\n",
    "    html_content = f'<html><head></head><body><h1>Shap Summary Plot</h1>\\n<img src={shap_plot_dataurl} width=\"97%\"></body></html>' \n",
    "    # Save shap summary plot as an html artifact\n",
    "    with open(shap_summary_plot.path, \"w\") as f: \n",
    "        f.write(html_content)\n",
    "      \n",
    "    model.metadata[\"framework\"] = \"xgboost\" \n",
    "    # Save the model as an artifact\n",
    "    with open(model.path, 'wb') as f: \n",
    "        pickle.dump({\n",
    "            \"pipeline\": house_price_model.model_pipeline,\n",
    "            \"target\": house_price_model.target,\n",
    "            \"scores_dict\": house_price_model.scores}, f)"
   ]
  },
  {
   "cell_type": "markdown",
   "id": "83af5247-85e6-49be-8fd1-f3ea760beb0f",
   "metadata": {},
   "source": [
    "## Evaluate the Model"
   ]
  },
  {
   "cell_type": "raw",
   "id": "07f059b3-29cf-4e2c-b020-9cdc583cf107",
   "metadata": {
    "tags": []
   },
   "source": [
    "@component(\n",
    "    packages_to_install = [\n",
    "        \"pandas\",\n",
    "        \"sklearn\"\n",
    "    ], base_image=\"python:3.9\",\n",
    ")\n",
    "\n",
    "def evaluate_houseprice(\n",
    "    train_set_feat_eng: Input[Dataset],\n",
    "    test_set_feat_eng:  Input[Dataset],\n",
    "    houseprice_model: Input[Model],\n",
    "    thresholds_dict_str: str,\n",
    "    metrics: Output[Metrics],\n",
    "    kpi: Output[Metrics]\n",
    ") -> NamedTuple(\"output\", [(\"deploy\", str)]):\n",
    "    \n",
    "    \n",
    "    from sklearn.metrics import mean_squared_error\n",
    "    import pandas as pd\n",
    "    import logging \n",
    "    import pickle\n",
    "    import json\n",
    "    import typing\n",
    "    \n",
    "    def threshold_check(val1, val2):\n",
    "        cond = \"false\"\n",
    "        if val1 >= val2 :\n",
    "            cond = \"true\"\n",
    "        return cond\n",
    "    \n",
    "    train_data = pd.read_csv(train_set_feat_eng.path + 'csv')\n",
    "    test_data = pd.read_csv(test_set_feat_eng.path + 'csv')\n",
    "    \n",
    "    file_name = houseprice_model.path + f\".pkl\"\n",
    "    with open(file_name, 'rb') as file:  \n",
    "        model = pickle.load(file)\n",
    "        \n",
    "    y_pred = model.predict(test_data)\n",
    "    \n",
    "    results = cross_validate(model, train_data.drop('SalePrice', axis=1), train_data['SalePrice'], \n",
    "                            cv=KFold(n_splits=3).split(train_data.drop('SalePrice', axis=1), n_splits=5),\n",
    "                            scoring='neg_mean_squared_error',\n",
    "                            return_estimator=True,\n",
    "                            return_train_score=True)\n",
    "    \n",
    "    y_pred_cv = np.array([results['estimator'][x].predict(test_data) for x in range(len(results['estimator']))]).mean(axis=0)\n",
    "    \n",
    "    mse = mean_squared_error(test_data['SalePrice'], y_pred)\n",
    "    mse_with_cv = mean_squared_error(test_data['SalePrice'], y_pred_cv)\n",
    "    \n",
    "    thresholds_dict = json.loads(thresholds_dict_str)  # WHAT IS THIS THRESHOLDS_DICT???\n",
    "    houseprice_model.metadata['mean_squared_error'] = float(mse)\n",
    "    kpi.log_metric('mean_squared_error', mse)      # DOES THAT MEAN WE ARE ASSIGNING MSE TO BOTH MODEL METADATA AND KPI WHICH IS OUTPUT['METRICS']???\n",
    "    \n",
    "    deploy = threshold_check(float(mse), int(thresholds_dict['mse']))\n",
    "    \n",
    "    return (deploy,)"
   ]
  },
  {
   "cell_type": "code",
   "execution_count": 8,
   "id": "4c284030-749e-49ed-958e-fdd816ea79ea",
   "metadata": {},
   "outputs": [],
   "source": [
    "@component(\n",
    "    base_image=BASE_IMAGE,\n",
    "    output_component_file=\"model_evaluation.yaml\"\n",
    ")\n",
    "\n",
    "def evaluate_houseprice(\n",
    "    houseprice_model: Input[Model], \n",
    "    cv_metrics_plot: Output[HTML],\n",
    "    lorenz_plot: Output[HTML],\n",
    "    # metrics_train: Output[Metrics],\n",
    "    metrics_test: Output[Metrics]):\n",
    "    \n",
    "    import pickle\n",
    "    import numpy as np\n",
    "    from src.modelling.model_validation import plot_cross_validated_metrics, plot_lorenz_curves\n",
    "    from src.utils.utils import get_image_data\n",
    "    \n",
    "    file_name = houseprice_model.path\n",
    "    with open(file_name, 'rb') as file:  \n",
    "        model_data = pickle.load(file)\n",
    "    \n",
    "    model_pipeline = model_data[\"pipeline\"] \n",
    "    cv_results_dict = model_data[\"results_dict\"]\n",
    "    \n",
    "    # Plot cv metrics and save as html artifact\n",
    "    plot_cross_validated_metrics(cv_results_dict)\n",
    "    cv_metrics_plot_dataurl = get_image_data() # get image data\n",
    "    html_content = f'<html><head></head><body><h1>Cross Validated Metrics Plot</h1>\\n<img src={cv_metrics_plot_dataurl} width=\"97%\"></body></html>' \n",
    "    with open(cv_metrics_plot.path, \"w\") as f: # save shap summary plot as an html artifact\n",
    "        f.write(html_content)\n",
    "        \n",
    "    # Plot lorenz curves and save as html artifact    \n",
    "    plot_lorenz_curves(cv_results_dict)\n",
    "    lorenz_plot_dataurl = get_image_data()\n",
    "    html_content = f'<html><head></head><body><h1>Lorenz Plot</h1>\\n<img src={lorenz_plot_dataurl} width=\"97%\"></body></html>' \n",
    "    with open(lorenz_plot.path, \"w\") as f: # save shap summary plot as an html artifact\n",
    "        f.write(html_content)\n",
    "        \n",
    "    # Get average metric values for train and test sets\n",
    "    for metric_name, val in cv_results_dict.items():\n",
    "        val = np.mean(val)\n",
    "        if 'train' in metric_name:\n",
    "            metrics_train.log_metric(metric_name, float(val))\n",
    "        elif 'test' in metric_name:\n",
    "            metrics_test.log_metric(metric_name, float(val))\n",
    "        else:\n",
    "            pass\n",
    "        \n",
    "   \n",
    "@component(\n",
    "    base_image=BASE_IMAGE,\n",
    "    output_component_file=\"model_evaluation.yaml\"\n",
    ")\n",
    "def evaluate_houseprice(\n",
    "    houseprice_model: Input[Model],\n",
    "    dataset_train: Input[Dataset],\n",
    "    dataset_test: Input[Dataset],\n",
    "    metrics_train: Output[Metrics],\n",
    "    metrics_test: Output[Metrics]):\n",
    "    \n",
    "    import pandas as pd\n",
    "    import pickle\n",
    "    \n",
    "    from sklearn.metrics import mean_gamma_deviance as gamma_deviance\n",
    "    from sklearn.metrics import mean_squared_error as mse\n",
    "    from sklearn.metrics import r2_score\n",
    "    \n",
    "    TARGET = 'SalePrice'\n",
    "    \n",
    "    train_df = pd.read_csv(dataset_train.path)\n",
    "    test_df = pd.read_csv(dataset_test.path)\n",
    "    \n",
    "    file_name = houseprice_model.path\n",
    "    with open(file_name, 'rb') as file:  \n",
    "        model_data = pickle.load(file)\n",
    "    \n",
    "    model_pipeline = model_data[\"pipeline\"] \n",
    "    \n",
    "    def eval_dataset(dataset, metric):\n",
    "        scores = {\"gamma_deviance\": gamma_deviance(dataset[TARGET], model_pipeline.predict(dataset.drop(TARGET, axis=1))),\n",
    "                  \"mse\": mse(dataset[TARGET], model_pipeline.predict(dataset.drop(TARGET, axis=1))),\n",
    "                  \"r2\": r2_score(dataset[TARGET], model_pipeline.predict(dataset.drop(TARGET, axis=1)))\n",
    "                 }\n",
    "        for metric_name, val in scores.items():\n",
    "            metric.log_metric(metric_name, float(val))\n",
    "            \n",
    "    eval_dataset(train_df, metrics_train)\n",
    "    eval_dataset(test_df, metrics_test)"
   ]
  },
  {
   "cell_type": "code",
   "execution_count": 8,
   "id": "90123ef9-a6fc-45a4-9d13-f81f6a617950",
   "metadata": {},
   "outputs": [],
   "source": [
    "@component(\n",
    "    base_image=BASE_IMAGE,\n",
    "    output_component_file=\"model_evaluation.yaml\"\n",
    ")\n",
    "def evaluate_houseprice(\n",
    "    houseprice_model: Input[Model],\n",
    "    metrics_baseline: Output[Metrics],\n",
    "    metrics_train: Output[Metrics],\n",
    "    metrics_test: Output[Metrics]):\n",
    "    \n",
    "    import pickle\n",
    "    \n",
    "    file_name = houseprice_model.path\n",
    "    with open(file_name, 'rb') as file:  \n",
    "        model_data = pickle.load(file)\n",
    "    \n",
    "    scores = model_data[\"scores_dict\"] \n",
    "\n",
    "    def log_metrics(scores, metric):\n",
    "        for metric_name, val in scores.items():\n",
    "            metric.log_metric(metric_name, float(val))\n",
    "            \n",
    "    log_metrics(scores[\"baseline_scores\"], metrics_baseline)        \n",
    "    log_metrics(scores[\"train_scores\"], metrics_train)\n",
    "    log_metrics(scores[\"test_scores\"], metrics_test)"
   ]
  },
  {
   "cell_type": "markdown",
   "id": "eea6b3f7-fd7a-4ee6-9c48-212b3d1197cb",
   "metadata": {},
   "source": [
    "## Deploy the Model"
   ]
  },
  {
   "cell_type": "raw",
   "id": "68eb38fd-24c4-498f-a741-50ea16c1ba0d",
   "metadata": {
    "tags": []
   },
   "source": [
    "@component(\n",
    "    base_image=BASE_IMAGE,\n",
    "    output_component_file=\"model_deployment.yaml\"\n",
    ")\n",
    "\n",
    "def deploy_houseprice(\n",
    "    model: Input[Model],\n",
    "    project: str,\n",
    "    region: str,\n",
    "    serving_container_image_uri : str, \n",
    "    vertex_endpoint: Output[Artifact],\n",
    "    vertex_model: Output[Model]\n",
    "):\n",
    "    \n",
    "    from google.cloud import aiplatform\n",
    "    aiplatform.init(project=project, location=region)\n",
    "    from pathlib import Path\n",
    "\n",
    "   # DISPLAY_NAME  = \"houseprice\"\n",
    "    DISPLAY_NAME = \"test\"\n",
    "    MODEL_NAME = \"houseprice-xgboost\"\n",
    "    ENDPOINT_NAME = \"test_endpoint\"\n",
    " #   KMS_KEY = \"Google-managed encryption key\"\n",
    "  #  ENDPOINT_NAME = \"houseprice_endpoint\"\n",
    "    \n",
    "    def create_endpoint():\n",
    "        endpoints = aiplatform.Endpoint.list(\n",
    "        filter='display_name=\"{}\"'.format(ENDPOINT_NAME),\n",
    "        order_by='create_time desc',\n",
    "        project=project, \n",
    "        location=region,\n",
    "        )\n",
    "        if len(endpoints) > 0:\n",
    "            endpoint = endpoints[0]  # most recently created\n",
    "        else:\n",
    "            endpoint = aiplatform.Endpoint.create(\n",
    "                display_name=ENDPOINT_NAME, \n",
    "                project=project, \n",
    "                location=region\n",
    "            #    encryption_spec_key_name=KMS_KEY\n",
    "            )\n",
    "    endpoint = create_endpoint()   \n",
    "    \n",
    "    \n",
    "    # Import a model programmatically\n",
    "    model_upload = aiplatform.Model.upload(\n",
    "        display_name = DISPLAY_NAME, \n",
    "       # artifact_uri = model.uri.replace(\"model\", \"\"),\n",
    "        artifact_uri=str(Path(model.path).parent),\n",
    "        serving_container_image_uri = serving_container_image_uri,\n",
    "        serving_container_health_route = \"/health\",\n",
    "        serving_container_predict_route = \"/predict\",\n",
    "        location = region,\n",
    "        serving_container_environment_variables={\n",
    "        \"MODEL_NAME\": MODEL_NAME,\n",
    "    },       \n",
    "    )\n",
    "    \n",
    "    model_deploy = model_upload.deploy(\n",
    "        machine_type=\"n1-standard-4\", \n",
    "        endpoint=endpoint,\n",
    "        traffic_split={\"0\": 100},\n",
    "        deployed_model_display_name=DISPLAY_NAME,\n",
    "    )\n",
    "\n",
    "    # Save data to the output params\n",
    "    vertex_model.uri = model_deploy.resource_name"
   ]
  },
  {
   "cell_type": "code",
   "execution_count": 9,
   "id": "162404be-5e45-4356-ae22-8a2933c0e65a",
   "metadata": {},
   "outputs": [],
   "source": [
    "@component(\n",
    "    base_image=BASE_IMAGE,\n",
    "    install_kfp_package=False,\n",
    "    output_component_file=\"model_deployment.yaml\",\n",
    ")\n",
    "def deploy_houseprice(\n",
    "        serving_container_image_uri: str,\n",
    "        display_name: str,\n",
    "        model_endpoint: str,\n",
    "        gcp_project: str,\n",
    "        gcp_region: str,\n",
    "        model: Input[Model],\n",
    "        vertex_model: Output[Model],\n",
    "        vertex_endpoint: Output[Model]\n",
    "):\n",
    "    from google.cloud import aiplatform as vertex_ai\n",
    "    from pathlib import Path\n",
    "    \n",
    "    # Checks existing Vertex AI Enpoint or creates Endpoint if it is not exist.\n",
    "    def create_endpoint ():\n",
    "        endpoints = vertex_ai.Endpoint.list(\n",
    "        filter='display_name=\"{}\"'.format(model_endpoint),\n",
    "        order_by='create_time desc',\n",
    "        project=gcp_project,\n",
    "        location=gcp_region,\n",
    "        )\n",
    "        if len(endpoints) > 0:\n",
    "            endpoint = endpoints[0] # most recently created\n",
    "        else:\n",
    "            endpoint = vertex_ai.Endpoint.create(\n",
    "                display_name=model_endpoint,\n",
    "                project=gcp_project,\n",
    "                location=gcp_region\n",
    "        )\n",
    "        return endpoint\n",
    "\n",
    "    endpoint = create_endpoint()\n",
    "    \n",
    "    # Uploads trained model to Vertex AI Model Registry or creates new model version into existing uploaded one.\n",
    "    def upload_model ():\n",
    "        listed_model = vertex_ai.Model.list(\n",
    "        filter='display_name=\"{}\"'.format(display_name),\n",
    "        project=gcp_project,\n",
    "        location=gcp_region,\n",
    "        )\n",
    "        if len(listed_model) > 0:\n",
    "            model_version = listed_model[0] # most recently created\n",
    "            model_upload = vertex_ai.Model.upload(\n",
    "                    display_name=display_name,\n",
    "                    parent_model=model_version.resource_name,\n",
    "                    artifact_uri=str(Path(model.path).parent),\n",
    "                    serving_container_image_uri=serving_container_image_uri,\n",
    "                    location=gcp_region,\n",
    "                    serving_container_predict_route=\"/predict\",\n",
    "                    serving_container_health_route=\"/health\"\n",
    "            )\n",
    "        else:\n",
    "            model_upload = vertex_ai.Model.upload(\n",
    "                    display_name=display_name,\n",
    "                    artifact_uri=str(Path(model.path).parent),\n",
    "                    serving_container_image_uri=serving_container_image_uri,\n",
    "                    location=gcp_region,\n",
    "                    serving_container_predict_route=\"/predict\",\n",
    "                    serving_container_health_route=\"/health\"\n",
    "            )\n",
    "        return model_upload\n",
    "    \n",
    "    uploaded_model = upload_model()\n",
    "    \n",
    "    # Save data to the output params\n",
    "    vertex_model.uri = uploaded_model.resource_name\n",
    "\n",
    "    # Deploys trained model to Vertex AI Endpoint\n",
    "    model_deploy = uploaded_model.deploy(\n",
    "        machine_type='n1-standard-4',\n",
    "        endpoint=endpoint,\n",
    "        traffic_split={\"0\": 100},\n",
    "        deployed_model_display_name=display_name,\n",
    "    )\n",
    "\n",
    "    # Save data to the output params\n",
    "    vertex_endpoint.uri = model_deploy.resource_name"
   ]
  },
  {
   "cell_type": "markdown",
   "id": "048154de-5566-4d2a-9ef2-4f1d09a4a8e1",
   "metadata": {},
   "source": [
    "## Create the Pipeline"
   ]
  },
  {
   "cell_type": "code",
   "execution_count": 10,
   "id": "f0f0428e-a3ac-43a6-b205-8f50e85ace5e",
   "metadata": {
    "tags": []
   },
   "outputs": [],
   "source": [
    "# USE TIMESTAMP TO DEFINE UNIQUE PIPELINE NAMES\n",
    "TIMESTAMP = datetime.now().strftime(\"%Y%m%d%H%M%S\")\n",
    "#DISPLAY_NAME = 'pipeline-test-job{}'.format(TIMESTAMP)\n",
    "DISPLAY_NAME = 'pipeline-houseprice-job{}'.format(TIMESTAMP)"
   ]
  },
  {
   "cell_type": "code",
   "execution_count": 11,
   "id": "7dcc4587-4dec-4536-a5bb-a65295a72088",
   "metadata": {
    "tags": []
   },
   "outputs": [],
   "source": [
    "@dsl.pipeline(\n",
    "    pipeline_root=PIPELINE_ROOT,\n",
    "    # A name for the pipeline. Use to determine the pipeline Context.\n",
    "   # name=\"pipeline-test\",\n",
    "    name=\"pipeline-houseprice\"\n",
    "    \n",
    ")\n",
    "\n",
    "def pipeline(\n",
    "    data_filepath: str = f\"{BUCKET_NAME}/data\",\n",
    "    project: str = PROJECT_ID,\n",
    "    region: str = REGION, \n",
    "    display_name: str = DISPLAY_NAME,\n",
    "    #serving_container_image_uri: str = \"europe-west2-docker.pkg.dev/gb-lab-bm-risk-sel-41/test/serving_image:latest\" # custom serving container image     \n",
    "    serving_container_image_uri: str = \"europe-west2-docker.pkg.dev/gb-lab-bm-risk-sel-41/houseprice/serving_image:latest\" # custom serving container image     \n",
    "):\n",
    "\n",
    "    data_op = get_houseprice_data(data_filepath)\n",
    "    data_preprocess_op = preprocess_houseprice_data(data_op.outputs[\"dataset_train\"])\n",
    "    train_test_split_op = train_test_split(data_preprocess_op.outputs[\"dataset_train_preprocessed\"])\n",
    "    train_model_op = train_houseprice(train_test_split_op.outputs[\"dataset_train\"], train_test_split_op.outputs[\"dataset_test\"])\n",
    "    model_evaluation_op = evaluate_houseprice(train_model_op.outputs[\"model\"])\n",
    "    #model_evaluation_op = evaluate_houseprice(train_model_op.outputs[\"model\"], \n",
    "    #                                          train_test_split_op.outputs[\"dataset_train\"], \n",
    "    #                                          train_test_split_op.outputs[\"dataset_test\"])\n",
    "           \n",
    "    deploy_model_op = deploy_houseprice(\n",
    "        model = train_model_op.outputs['model'],\n",
    "        gcp_project = project,\n",
    "        gcp_region = region, \n",
    "        serving_container_image_uri = serving_container_image_uri,\n",
    "        display_name = \"houseprice\",\n",
    "        model_endpoint = \"houseprice_endpoint\"\n",
    "       # display_name = \"test\",\n",
    "       # model_endpoint = \"test_endpoint\"\n",
    "    )"
   ]
  },
  {
   "cell_type": "code",
   "execution_count": null,
   "id": "12d2ae12-2ca0-4976-a2ca-3fc01d04a290",
   "metadata": {},
   "outputs": [],
   "source": []
  },
  {
   "cell_type": "code",
   "execution_count": null,
   "id": "e52dbf1b-6a39-4c92-8c2d-6187a523ef6f",
   "metadata": {},
   "outputs": [],
   "source": []
  },
  {
   "cell_type": "markdown",
   "id": "a2997194-f444-4745-b118-2c0726aa9554",
   "metadata": {},
   "source": [
    "## Compile and Run the Pipeline"
   ]
  },
  {
   "cell_type": "code",
   "execution_count": 12,
   "id": "1fb5115c-7be2-4666-81eb-66510edc7afa",
   "metadata": {
    "tags": []
   },
   "outputs": [
    {
     "name": "stderr",
     "output_type": "stream",
     "text": [
      "/home/jupyter/virtualenvironment/vertex_env/lib/python3.7/site-packages/kfp/v2/compiler/compiler.py:1293: FutureWarning: APIs imported from the v1 namespace (e.g. kfp.dsl, kfp.components, etc) will not be supported by the v2 compiler since v2.0.0\n",
      "  category=FutureWarning,\n"
     ]
    }
   ],
   "source": [
    "# COMPILE THE PIPELINE (to create the job spec file)\n",
    "\n",
    "compiler.Compiler().compile(pipeline_func=pipeline,\n",
    "        package_path='ml_houseprice.json')"
   ]
  },
  {
   "cell_type": "code",
   "execution_count": 14,
   "id": "7c2fc8ab-fcda-428f-91f7-0149f8dfdaa5",
   "metadata": {
    "tags": []
   },
   "outputs": [],
   "source": [
    "# CREATE A RUN USING THE JOB SPEC FILE GENERATED \n",
    "\n",
    "start_pipeline = pipeline_jobs.PipelineJob(\n",
    "    display_name=\"houseprice-pipeline\",\n",
    "  #  display_name=\"test-pipeline\",\n",
    "    template_path=\"ml_houseprice.json\",\n",
    "    enable_caching=False,\n",
    "    location=REGION,\n",
    ")"
   ]
  },
  {
   "cell_type": "code",
   "execution_count": 15,
   "id": "949a7933-fad7-47e6-9b5b-ab9941507f9f",
   "metadata": {
    "tags": []
   },
   "outputs": [
    {
     "name": "stdout",
     "output_type": "stream",
     "text": [
      "Creating PipelineJob\n",
      "PipelineJob created. Resource name: projects/737041112644/locations/europe-west2/pipelineJobs/pipeline-houseprice-20230215125152\n",
      "To use this PipelineJob in another session:\n",
      "pipeline_job = aiplatform.PipelineJob.get('projects/737041112644/locations/europe-west2/pipelineJobs/pipeline-houseprice-20230215125152')\n",
      "View Pipeline Job:\n",
      "https://console.cloud.google.com/vertex-ai/locations/europe-west2/pipelines/runs/pipeline-houseprice-20230215125152?project=737041112644\n",
      "PipelineJob projects/737041112644/locations/europe-west2/pipelineJobs/pipeline-houseprice-20230215125152 current state:\n",
      "PipelineState.PIPELINE_STATE_RUNNING\n",
      "PipelineJob projects/737041112644/locations/europe-west2/pipelineJobs/pipeline-houseprice-20230215125152 current state:\n",
      "PipelineState.PIPELINE_STATE_RUNNING\n",
      "PipelineJob projects/737041112644/locations/europe-west2/pipelineJobs/pipeline-houseprice-20230215125152 current state:\n",
      "PipelineState.PIPELINE_STATE_RUNNING\n",
      "PipelineJob projects/737041112644/locations/europe-west2/pipelineJobs/pipeline-houseprice-20230215125152 current state:\n",
      "PipelineState.PIPELINE_STATE_RUNNING\n",
      "PipelineJob projects/737041112644/locations/europe-west2/pipelineJobs/pipeline-houseprice-20230215125152 current state:\n",
      "PipelineState.PIPELINE_STATE_RUNNING\n",
      "PipelineJob projects/737041112644/locations/europe-west2/pipelineJobs/pipeline-houseprice-20230215125152 current state:\n",
      "PipelineState.PIPELINE_STATE_RUNNING\n",
      "PipelineJob projects/737041112644/locations/europe-west2/pipelineJobs/pipeline-houseprice-20230215125152 current state:\n",
      "PipelineState.PIPELINE_STATE_RUNNING\n",
      "PipelineJob projects/737041112644/locations/europe-west2/pipelineJobs/pipeline-houseprice-20230215125152 current state:\n",
      "PipelineState.PIPELINE_STATE_RUNNING\n",
      "PipelineJob projects/737041112644/locations/europe-west2/pipelineJobs/pipeline-houseprice-20230215125152 current state:\n",
      "PipelineState.PIPELINE_STATE_RUNNING\n",
      "PipelineJob projects/737041112644/locations/europe-west2/pipelineJobs/pipeline-houseprice-20230215125152 current state:\n",
      "PipelineState.PIPELINE_STATE_RUNNING\n",
      "PipelineJob projects/737041112644/locations/europe-west2/pipelineJobs/pipeline-houseprice-20230215125152 current state:\n",
      "PipelineState.PIPELINE_STATE_RUNNING\n",
      "PipelineJob run completed. Resource name: projects/737041112644/locations/europe-west2/pipelineJobs/pipeline-houseprice-20230215125152\n"
     ]
    }
   ],
   "source": [
    "# RUN THE PIPELINE\n",
    "\n",
    "start_pipeline.run()"
   ]
  },
  {
   "cell_type": "code",
   "execution_count": null,
   "id": "ca8dcd29-0382-4248-a894-46aa570d4fb0",
   "metadata": {},
   "outputs": [],
   "source": []
  },
  {
   "cell_type": "markdown",
   "id": "856282e0-888f-4891-b929-2db449076b2f",
   "metadata": {},
   "source": [
    "## Make Predictions Using Vertex AI Endpoint"
   ]
  },
  {
   "cell_type": "code",
   "execution_count": 79,
   "id": "904e8cc6-cfdf-459e-affa-af83e7b5dc96",
   "metadata": {},
   "outputs": [],
   "source": [
    "endpoint_name = \"projects/737041112644/locations/europe-west2/endpoints/6824026558815010816\"\n",
    "endpoint = vertex_ai.Endpoint(endpoint_name)"
   ]
  },
  {
   "cell_type": "code",
   "execution_count": 80,
   "id": "63dd030a-d5dd-47c1-a7f4-b7debb67a03b",
   "metadata": {},
   "outputs": [
    {
     "data": {
      "text/plain": [
       "<google.cloud.aiplatform.models.Endpoint object at 0x7fdd6285d950> \n",
       "resource name: projects/737041112644/locations/europe-west2/endpoints/6824026558815010816"
      ]
     },
     "execution_count": 80,
     "metadata": {},
     "output_type": "execute_result"
    }
   ],
   "source": [
    "endpoint"
   ]
  },
  {
   "cell_type": "code",
   "execution_count": 134,
   "id": "1c2b836a-2539-42e6-ad4d-1768035f6fcb",
   "metadata": {},
   "outputs": [
    {
     "data": {
      "text/plain": [
       "(1459, 80)"
      ]
     },
     "execution_count": 134,
     "metadata": {},
     "output_type": "execute_result"
    }
   ],
   "source": [
    "test_df.shape"
   ]
  },
  {
   "cell_type": "code",
   "execution_count": 154,
   "id": "91b9c999-737e-42f7-8799-bc335faf2f75",
   "metadata": {},
   "outputs": [],
   "source": [
    "test = test_df.iloc[:10,:]"
   ]
  },
  {
   "cell_type": "code",
   "execution_count": 155,
   "id": "a34e0311-9195-4473-9afd-7e03a277d4e5",
   "metadata": {},
   "outputs": [],
   "source": [
    "request = test.to_json(orient='records', lines=True)"
   ]
  },
  {
   "cell_type": "code",
   "execution_count": 156,
   "id": "71cd8213-c2fb-4238-b040-31cfc83856e0",
   "metadata": {
    "collapsed": true,
    "jupyter": {
     "outputs_hidden": true
    },
    "tags": []
   },
   "outputs": [
    {
     "name": "stdout",
     "output_type": "stream",
     "text": [
      "['{\"Id\":1461,\"MSSubClass\":20,\"MSZoning\":\"RH\",\"LotFrontage\":80.0,\"LotArea\":11622,\"Street\":\"Pave\",\"Alley\":null,\"LotShape\":\"Reg\",\"LandContour\":\"Lvl\",\"Utilities\":\"AllPub\",\"LotConfig\":\"Inside\",\"LandSlope\":\"Gtl\",\"Neighborhood\":\"NAmes\",\"Condition1\":\"Feedr\",\"Condition2\":\"Norm\",\"BldgType\":\"1Fam\",\"HouseStyle\":\"1Story\",\"OverallQual\":5,\"OverallCond\":6,\"YearBuilt\":1961,\"YearRemodAdd\":1961,\"RoofStyle\":\"Gable\",\"RoofMatl\":\"CompShg\",\"Exterior1st\":\"VinylSd\",\"Exterior2nd\":\"VinylSd\",\"MasVnrType\":\"None\",\"MasVnrArea\":0.0,\"ExterQual\":\"TA\",\"ExterCond\":\"TA\",\"Foundation\":\"CBlock\",\"BsmtQual\":\"TA\",\"BsmtCond\":\"TA\",\"BsmtExposure\":\"No\",\"BsmtFinType1\":\"Rec\",\"BsmtFinSF1\":468.0,\"BsmtFinType2\":\"LwQ\",\"BsmtFinSF2\":144.0,\"BsmtUnfSF\":270.0,\"TotalBsmtSF\":882.0,\"Heating\":\"GasA\",\"HeatingQC\":\"TA\",\"CentralAir\":\"Y\",\"Electrical\":\"SBrkr\",\"1stFlrSF\":896,\"2ndFlrSF\":0,\"LowQualFinSF\":0,\"GrLivArea\":896,\"BsmtFullBath\":0.0,\"BsmtHalfBath\":0.0,\"FullBath\":1,\"HalfBath\":0,\"BedroomAbvGr\":2,\"KitchenAbvGr\":1,\"KitchenQual\":\"TA\",\"TotRmsAbvGrd\":5,\"Functional\":\"Typ\",\"Fireplaces\":0,\"FireplaceQu\":null,\"GarageType\":\"Attchd\",\"GarageYrBlt\":1961.0,\"GarageFinish\":\"Unf\",\"GarageCars\":1.0,\"GarageArea\":730.0,\"GarageQual\":\"TA\",\"GarageCond\":\"TA\",\"PavedDrive\":\"Y\",\"WoodDeckSF\":140,\"OpenPorchSF\":0,\"EnclosedPorch\":0,\"3SsnPorch\":0,\"ScreenPorch\":120,\"PoolArea\":0,\"PoolQC\":null,\"Fence\":\"MnPrv\",\"MiscFeature\":null,\"MiscVal\":0,\"MoSold\":6,\"YrSold\":2010,\"SaleType\":\"WD\",\"SaleCondition\":\"Normal\"}', '{\"Id\":1462,\"MSSubClass\":20,\"MSZoning\":\"RL\",\"LotFrontage\":81.0,\"LotArea\":14267,\"Street\":\"Pave\",\"Alley\":null,\"LotShape\":\"IR1\",\"LandContour\":\"Lvl\",\"Utilities\":\"AllPub\",\"LotConfig\":\"Corner\",\"LandSlope\":\"Gtl\",\"Neighborhood\":\"NAmes\",\"Condition1\":\"Norm\",\"Condition2\":\"Norm\",\"BldgType\":\"1Fam\",\"HouseStyle\":\"1Story\",\"OverallQual\":6,\"OverallCond\":6,\"YearBuilt\":1958,\"YearRemodAdd\":1958,\"RoofStyle\":\"Hip\",\"RoofMatl\":\"CompShg\",\"Exterior1st\":\"Wd Sdng\",\"Exterior2nd\":\"Wd Sdng\",\"MasVnrType\":\"BrkFace\",\"MasVnrArea\":108.0,\"ExterQual\":\"TA\",\"ExterCond\":\"TA\",\"Foundation\":\"CBlock\",\"BsmtQual\":\"TA\",\"BsmtCond\":\"TA\",\"BsmtExposure\":\"No\",\"BsmtFinType1\":\"ALQ\",\"BsmtFinSF1\":923.0,\"BsmtFinType2\":\"Unf\",\"BsmtFinSF2\":0.0,\"BsmtUnfSF\":406.0,\"TotalBsmtSF\":1329.0,\"Heating\":\"GasA\",\"HeatingQC\":\"TA\",\"CentralAir\":\"Y\",\"Electrical\":\"SBrkr\",\"1stFlrSF\":1329,\"2ndFlrSF\":0,\"LowQualFinSF\":0,\"GrLivArea\":1329,\"BsmtFullBath\":0.0,\"BsmtHalfBath\":0.0,\"FullBath\":1,\"HalfBath\":1,\"BedroomAbvGr\":3,\"KitchenAbvGr\":1,\"KitchenQual\":\"Gd\",\"TotRmsAbvGrd\":6,\"Functional\":\"Typ\",\"Fireplaces\":0,\"FireplaceQu\":null,\"GarageType\":\"Attchd\",\"GarageYrBlt\":1958.0,\"GarageFinish\":\"Unf\",\"GarageCars\":1.0,\"GarageArea\":312.0,\"GarageQual\":\"TA\",\"GarageCond\":\"TA\",\"PavedDrive\":\"Y\",\"WoodDeckSF\":393,\"OpenPorchSF\":36,\"EnclosedPorch\":0,\"3SsnPorch\":0,\"ScreenPorch\":0,\"PoolArea\":0,\"PoolQC\":null,\"Fence\":null,\"MiscFeature\":\"Gar2\",\"MiscVal\":12500,\"MoSold\":6,\"YrSold\":2010,\"SaleType\":\"WD\",\"SaleCondition\":\"Normal\"}', '{\"Id\":1463,\"MSSubClass\":60,\"MSZoning\":\"RL\",\"LotFrontage\":74.0,\"LotArea\":13830,\"Street\":\"Pave\",\"Alley\":null,\"LotShape\":\"IR1\",\"LandContour\":\"Lvl\",\"Utilities\":\"AllPub\",\"LotConfig\":\"Inside\",\"LandSlope\":\"Gtl\",\"Neighborhood\":\"Gilbert\",\"Condition1\":\"Norm\",\"Condition2\":\"Norm\",\"BldgType\":\"1Fam\",\"HouseStyle\":\"2Story\",\"OverallQual\":5,\"OverallCond\":5,\"YearBuilt\":1997,\"YearRemodAdd\":1998,\"RoofStyle\":\"Gable\",\"RoofMatl\":\"CompShg\",\"Exterior1st\":\"VinylSd\",\"Exterior2nd\":\"VinylSd\",\"MasVnrType\":\"None\",\"MasVnrArea\":0.0,\"ExterQual\":\"TA\",\"ExterCond\":\"TA\",\"Foundation\":\"PConc\",\"BsmtQual\":\"Gd\",\"BsmtCond\":\"TA\",\"BsmtExposure\":\"No\",\"BsmtFinType1\":\"GLQ\",\"BsmtFinSF1\":791.0,\"BsmtFinType2\":\"Unf\",\"BsmtFinSF2\":0.0,\"BsmtUnfSF\":137.0,\"TotalBsmtSF\":928.0,\"Heating\":\"GasA\",\"HeatingQC\":\"Gd\",\"CentralAir\":\"Y\",\"Electrical\":\"SBrkr\",\"1stFlrSF\":928,\"2ndFlrSF\":701,\"LowQualFinSF\":0,\"GrLivArea\":1629,\"BsmtFullBath\":0.0,\"BsmtHalfBath\":0.0,\"FullBath\":2,\"HalfBath\":1,\"BedroomAbvGr\":3,\"KitchenAbvGr\":1,\"KitchenQual\":\"TA\",\"TotRmsAbvGrd\":6,\"Functional\":\"Typ\",\"Fireplaces\":1,\"FireplaceQu\":\"TA\",\"GarageType\":\"Attchd\",\"GarageYrBlt\":1997.0,\"GarageFinish\":\"Fin\",\"GarageCars\":2.0,\"GarageArea\":482.0,\"GarageQual\":\"TA\",\"GarageCond\":\"TA\",\"PavedDrive\":\"Y\",\"WoodDeckSF\":212,\"OpenPorchSF\":34,\"EnclosedPorch\":0,\"3SsnPorch\":0,\"ScreenPorch\":0,\"PoolArea\":0,\"PoolQC\":null,\"Fence\":\"MnPrv\",\"MiscFeature\":null,\"MiscVal\":0,\"MoSold\":3,\"YrSold\":2010,\"SaleType\":\"WD\",\"SaleCondition\":\"Normal\"}', '{\"Id\":1464,\"MSSubClass\":60,\"MSZoning\":\"RL\",\"LotFrontage\":78.0,\"LotArea\":9978,\"Street\":\"Pave\",\"Alley\":null,\"LotShape\":\"IR1\",\"LandContour\":\"Lvl\",\"Utilities\":\"AllPub\",\"LotConfig\":\"Inside\",\"LandSlope\":\"Gtl\",\"Neighborhood\":\"Gilbert\",\"Condition1\":\"Norm\",\"Condition2\":\"Norm\",\"BldgType\":\"1Fam\",\"HouseStyle\":\"2Story\",\"OverallQual\":6,\"OverallCond\":6,\"YearBuilt\":1998,\"YearRemodAdd\":1998,\"RoofStyle\":\"Gable\",\"RoofMatl\":\"CompShg\",\"Exterior1st\":\"VinylSd\",\"Exterior2nd\":\"VinylSd\",\"MasVnrType\":\"BrkFace\",\"MasVnrArea\":20.0,\"ExterQual\":\"TA\",\"ExterCond\":\"TA\",\"Foundation\":\"PConc\",\"BsmtQual\":\"TA\",\"BsmtCond\":\"TA\",\"BsmtExposure\":\"No\",\"BsmtFinType1\":\"GLQ\",\"BsmtFinSF1\":602.0,\"BsmtFinType2\":\"Unf\",\"BsmtFinSF2\":0.0,\"BsmtUnfSF\":324.0,\"TotalBsmtSF\":926.0,\"Heating\":\"GasA\",\"HeatingQC\":\"Ex\",\"CentralAir\":\"Y\",\"Electrical\":\"SBrkr\",\"1stFlrSF\":926,\"2ndFlrSF\":678,\"LowQualFinSF\":0,\"GrLivArea\":1604,\"BsmtFullBath\":0.0,\"BsmtHalfBath\":0.0,\"FullBath\":2,\"HalfBath\":1,\"BedroomAbvGr\":3,\"KitchenAbvGr\":1,\"KitchenQual\":\"Gd\",\"TotRmsAbvGrd\":7,\"Functional\":\"Typ\",\"Fireplaces\":1,\"FireplaceQu\":\"Gd\",\"GarageType\":\"Attchd\",\"GarageYrBlt\":1998.0,\"GarageFinish\":\"Fin\",\"GarageCars\":2.0,\"GarageArea\":470.0,\"GarageQual\":\"TA\",\"GarageCond\":\"TA\",\"PavedDrive\":\"Y\",\"WoodDeckSF\":360,\"OpenPorchSF\":36,\"EnclosedPorch\":0,\"3SsnPorch\":0,\"ScreenPorch\":0,\"PoolArea\":0,\"PoolQC\":null,\"Fence\":null,\"MiscFeature\":null,\"MiscVal\":0,\"MoSold\":6,\"YrSold\":2010,\"SaleType\":\"WD\",\"SaleCondition\":\"Normal\"}', '{\"Id\":1465,\"MSSubClass\":120,\"MSZoning\":\"RL\",\"LotFrontage\":43.0,\"LotArea\":5005,\"Street\":\"Pave\",\"Alley\":null,\"LotShape\":\"IR1\",\"LandContour\":\"HLS\",\"Utilities\":\"AllPub\",\"LotConfig\":\"Inside\",\"LandSlope\":\"Gtl\",\"Neighborhood\":\"StoneBr\",\"Condition1\":\"Norm\",\"Condition2\":\"Norm\",\"BldgType\":\"TwnhsE\",\"HouseStyle\":\"1Story\",\"OverallQual\":8,\"OverallCond\":5,\"YearBuilt\":1992,\"YearRemodAdd\":1992,\"RoofStyle\":\"Gable\",\"RoofMatl\":\"CompShg\",\"Exterior1st\":\"HdBoard\",\"Exterior2nd\":\"HdBoard\",\"MasVnrType\":\"None\",\"MasVnrArea\":0.0,\"ExterQual\":\"Gd\",\"ExterCond\":\"TA\",\"Foundation\":\"PConc\",\"BsmtQual\":\"Gd\",\"BsmtCond\":\"TA\",\"BsmtExposure\":\"No\",\"BsmtFinType1\":\"ALQ\",\"BsmtFinSF1\":263.0,\"BsmtFinType2\":\"Unf\",\"BsmtFinSF2\":0.0,\"BsmtUnfSF\":1017.0,\"TotalBsmtSF\":1280.0,\"Heating\":\"GasA\",\"HeatingQC\":\"Ex\",\"CentralAir\":\"Y\",\"Electrical\":\"SBrkr\",\"1stFlrSF\":1280,\"2ndFlrSF\":0,\"LowQualFinSF\":0,\"GrLivArea\":1280,\"BsmtFullBath\":0.0,\"BsmtHalfBath\":0.0,\"FullBath\":2,\"HalfBath\":0,\"BedroomAbvGr\":2,\"KitchenAbvGr\":1,\"KitchenQual\":\"Gd\",\"TotRmsAbvGrd\":5,\"Functional\":\"Typ\",\"Fireplaces\":0,\"FireplaceQu\":null,\"GarageType\":\"Attchd\",\"GarageYrBlt\":1992.0,\"GarageFinish\":\"RFn\",\"GarageCars\":2.0,\"GarageArea\":506.0,\"GarageQual\":\"TA\",\"GarageCond\":\"TA\",\"PavedDrive\":\"Y\",\"WoodDeckSF\":0,\"OpenPorchSF\":82,\"EnclosedPorch\":0,\"3SsnPorch\":0,\"ScreenPorch\":144,\"PoolArea\":0,\"PoolQC\":null,\"Fence\":null,\"MiscFeature\":null,\"MiscVal\":0,\"MoSold\":1,\"YrSold\":2010,\"SaleType\":\"WD\",\"SaleCondition\":\"Normal\"}', '{\"Id\":1466,\"MSSubClass\":60,\"MSZoning\":\"RL\",\"LotFrontage\":75.0,\"LotArea\":10000,\"Street\":\"Pave\",\"Alley\":null,\"LotShape\":\"IR1\",\"LandContour\":\"Lvl\",\"Utilities\":\"AllPub\",\"LotConfig\":\"Corner\",\"LandSlope\":\"Gtl\",\"Neighborhood\":\"Gilbert\",\"Condition1\":\"Norm\",\"Condition2\":\"Norm\",\"BldgType\":\"1Fam\",\"HouseStyle\":\"2Story\",\"OverallQual\":6,\"OverallCond\":5,\"YearBuilt\":1993,\"YearRemodAdd\":1994,\"RoofStyle\":\"Gable\",\"RoofMatl\":\"CompShg\",\"Exterior1st\":\"HdBoard\",\"Exterior2nd\":\"HdBoard\",\"MasVnrType\":\"None\",\"MasVnrArea\":0.0,\"ExterQual\":\"TA\",\"ExterCond\":\"TA\",\"Foundation\":\"PConc\",\"BsmtQual\":\"Gd\",\"BsmtCond\":\"TA\",\"BsmtExposure\":\"No\",\"BsmtFinType1\":\"Unf\",\"BsmtFinSF1\":0.0,\"BsmtFinType2\":\"Unf\",\"BsmtFinSF2\":0.0,\"BsmtUnfSF\":763.0,\"TotalBsmtSF\":763.0,\"Heating\":\"GasA\",\"HeatingQC\":\"Gd\",\"CentralAir\":\"Y\",\"Electrical\":\"SBrkr\",\"1stFlrSF\":763,\"2ndFlrSF\":892,\"LowQualFinSF\":0,\"GrLivArea\":1655,\"BsmtFullBath\":0.0,\"BsmtHalfBath\":0.0,\"FullBath\":2,\"HalfBath\":1,\"BedroomAbvGr\":3,\"KitchenAbvGr\":1,\"KitchenQual\":\"TA\",\"TotRmsAbvGrd\":7,\"Functional\":\"Typ\",\"Fireplaces\":1,\"FireplaceQu\":\"TA\",\"GarageType\":\"Attchd\",\"GarageYrBlt\":1993.0,\"GarageFinish\":\"Fin\",\"GarageCars\":2.0,\"GarageArea\":440.0,\"GarageQual\":\"TA\",\"GarageCond\":\"TA\",\"PavedDrive\":\"Y\",\"WoodDeckSF\":157,\"OpenPorchSF\":84,\"EnclosedPorch\":0,\"3SsnPorch\":0,\"ScreenPorch\":0,\"PoolArea\":0,\"PoolQC\":null,\"Fence\":null,\"MiscFeature\":null,\"MiscVal\":0,\"MoSold\":4,\"YrSold\":2010,\"SaleType\":\"WD\",\"SaleCondition\":\"Normal\"}', '{\"Id\":1467,\"MSSubClass\":20,\"MSZoning\":\"RL\",\"LotFrontage\":null,\"LotArea\":7980,\"Street\":\"Pave\",\"Alley\":null,\"LotShape\":\"IR1\",\"LandContour\":\"Lvl\",\"Utilities\":\"AllPub\",\"LotConfig\":\"Inside\",\"LandSlope\":\"Gtl\",\"Neighborhood\":\"Gilbert\",\"Condition1\":\"Norm\",\"Condition2\":\"Norm\",\"BldgType\":\"1Fam\",\"HouseStyle\":\"1Story\",\"OverallQual\":6,\"OverallCond\":7,\"YearBuilt\":1992,\"YearRemodAdd\":2007,\"RoofStyle\":\"Gable\",\"RoofMatl\":\"CompShg\",\"Exterior1st\":\"HdBoard\",\"Exterior2nd\":\"HdBoard\",\"MasVnrType\":\"None\",\"MasVnrArea\":0.0,\"ExterQual\":\"TA\",\"ExterCond\":\"Gd\",\"Foundation\":\"PConc\",\"BsmtQual\":\"Gd\",\"BsmtCond\":\"TA\",\"BsmtExposure\":\"No\",\"BsmtFinType1\":\"ALQ\",\"BsmtFinSF1\":935.0,\"BsmtFinType2\":\"Unf\",\"BsmtFinSF2\":0.0,\"BsmtUnfSF\":233.0,\"TotalBsmtSF\":1168.0,\"Heating\":\"GasA\",\"HeatingQC\":\"Ex\",\"CentralAir\":\"Y\",\"Electrical\":\"SBrkr\",\"1stFlrSF\":1187,\"2ndFlrSF\":0,\"LowQualFinSF\":0,\"GrLivArea\":1187,\"BsmtFullBath\":1.0,\"BsmtHalfBath\":0.0,\"FullBath\":2,\"HalfBath\":0,\"BedroomAbvGr\":3,\"KitchenAbvGr\":1,\"KitchenQual\":\"TA\",\"TotRmsAbvGrd\":6,\"Functional\":\"Typ\",\"Fireplaces\":0,\"FireplaceQu\":null,\"GarageType\":\"Attchd\",\"GarageYrBlt\":1992.0,\"GarageFinish\":\"Fin\",\"GarageCars\":2.0,\"GarageArea\":420.0,\"GarageQual\":\"TA\",\"GarageCond\":\"TA\",\"PavedDrive\":\"Y\",\"WoodDeckSF\":483,\"OpenPorchSF\":21,\"EnclosedPorch\":0,\"3SsnPorch\":0,\"ScreenPorch\":0,\"PoolArea\":0,\"PoolQC\":null,\"Fence\":\"GdPrv\",\"MiscFeature\":\"Shed\",\"MiscVal\":500,\"MoSold\":3,\"YrSold\":2010,\"SaleType\":\"WD\",\"SaleCondition\":\"Normal\"}', '{\"Id\":1468,\"MSSubClass\":60,\"MSZoning\":\"RL\",\"LotFrontage\":63.0,\"LotArea\":8402,\"Street\":\"Pave\",\"Alley\":null,\"LotShape\":\"IR1\",\"LandContour\":\"Lvl\",\"Utilities\":\"AllPub\",\"LotConfig\":\"Inside\",\"LandSlope\":\"Gtl\",\"Neighborhood\":\"Gilbert\",\"Condition1\":\"Norm\",\"Condition2\":\"Norm\",\"BldgType\":\"1Fam\",\"HouseStyle\":\"2Story\",\"OverallQual\":6,\"OverallCond\":5,\"YearBuilt\":1998,\"YearRemodAdd\":1998,\"RoofStyle\":\"Gable\",\"RoofMatl\":\"CompShg\",\"Exterior1st\":\"VinylSd\",\"Exterior2nd\":\"VinylSd\",\"MasVnrType\":\"None\",\"MasVnrArea\":0.0,\"ExterQual\":\"TA\",\"ExterCond\":\"TA\",\"Foundation\":\"PConc\",\"BsmtQual\":\"Gd\",\"BsmtCond\":\"TA\",\"BsmtExposure\":\"No\",\"BsmtFinType1\":\"Unf\",\"BsmtFinSF1\":0.0,\"BsmtFinType2\":\"Unf\",\"BsmtFinSF2\":0.0,\"BsmtUnfSF\":789.0,\"TotalBsmtSF\":789.0,\"Heating\":\"GasA\",\"HeatingQC\":\"Gd\",\"CentralAir\":\"Y\",\"Electrical\":\"SBrkr\",\"1stFlrSF\":789,\"2ndFlrSF\":676,\"LowQualFinSF\":0,\"GrLivArea\":1465,\"BsmtFullBath\":0.0,\"BsmtHalfBath\":0.0,\"FullBath\":2,\"HalfBath\":1,\"BedroomAbvGr\":3,\"KitchenAbvGr\":1,\"KitchenQual\":\"TA\",\"TotRmsAbvGrd\":7,\"Functional\":\"Typ\",\"Fireplaces\":1,\"FireplaceQu\":\"Gd\",\"GarageType\":\"Attchd\",\"GarageYrBlt\":1998.0,\"GarageFinish\":\"Fin\",\"GarageCars\":2.0,\"GarageArea\":393.0,\"GarageQual\":\"TA\",\"GarageCond\":\"TA\",\"PavedDrive\":\"Y\",\"WoodDeckSF\":0,\"OpenPorchSF\":75,\"EnclosedPorch\":0,\"3SsnPorch\":0,\"ScreenPorch\":0,\"PoolArea\":0,\"PoolQC\":null,\"Fence\":null,\"MiscFeature\":null,\"MiscVal\":0,\"MoSold\":5,\"YrSold\":2010,\"SaleType\":\"WD\",\"SaleCondition\":\"Normal\"}', '{\"Id\":1469,\"MSSubClass\":20,\"MSZoning\":\"RL\",\"LotFrontage\":85.0,\"LotArea\":10176,\"Street\":\"Pave\",\"Alley\":null,\"LotShape\":\"Reg\",\"LandContour\":\"Lvl\",\"Utilities\":\"AllPub\",\"LotConfig\":\"Inside\",\"LandSlope\":\"Gtl\",\"Neighborhood\":\"Gilbert\",\"Condition1\":\"Norm\",\"Condition2\":\"Norm\",\"BldgType\":\"1Fam\",\"HouseStyle\":\"1Story\",\"OverallQual\":7,\"OverallCond\":5,\"YearBuilt\":1990,\"YearRemodAdd\":1990,\"RoofStyle\":\"Gable\",\"RoofMatl\":\"CompShg\",\"Exterior1st\":\"HdBoard\",\"Exterior2nd\":\"HdBoard\",\"MasVnrType\":\"None\",\"MasVnrArea\":0.0,\"ExterQual\":\"TA\",\"ExterCond\":\"TA\",\"Foundation\":\"PConc\",\"BsmtQual\":\"Gd\",\"BsmtCond\":\"TA\",\"BsmtExposure\":\"Gd\",\"BsmtFinType1\":\"GLQ\",\"BsmtFinSF1\":637.0,\"BsmtFinType2\":\"Unf\",\"BsmtFinSF2\":0.0,\"BsmtUnfSF\":663.0,\"TotalBsmtSF\":1300.0,\"Heating\":\"GasA\",\"HeatingQC\":\"Gd\",\"CentralAir\":\"Y\",\"Electrical\":\"SBrkr\",\"1stFlrSF\":1341,\"2ndFlrSF\":0,\"LowQualFinSF\":0,\"GrLivArea\":1341,\"BsmtFullBath\":1.0,\"BsmtHalfBath\":0.0,\"FullBath\":1,\"HalfBath\":1,\"BedroomAbvGr\":2,\"KitchenAbvGr\":1,\"KitchenQual\":\"Gd\",\"TotRmsAbvGrd\":5,\"Functional\":\"Typ\",\"Fireplaces\":1,\"FireplaceQu\":\"Po\",\"GarageType\":\"Attchd\",\"GarageYrBlt\":1990.0,\"GarageFinish\":\"Unf\",\"GarageCars\":2.0,\"GarageArea\":506.0,\"GarageQual\":\"TA\",\"GarageCond\":\"TA\",\"PavedDrive\":\"Y\",\"WoodDeckSF\":192,\"OpenPorchSF\":0,\"EnclosedPorch\":0,\"3SsnPorch\":0,\"ScreenPorch\":0,\"PoolArea\":0,\"PoolQC\":null,\"Fence\":null,\"MiscFeature\":null,\"MiscVal\":0,\"MoSold\":2,\"YrSold\":2010,\"SaleType\":\"WD\",\"SaleCondition\":\"Normal\"}', '{\"Id\":1470,\"MSSubClass\":20,\"MSZoning\":\"RL\",\"LotFrontage\":70.0,\"LotArea\":8400,\"Street\":\"Pave\",\"Alley\":null,\"LotShape\":\"Reg\",\"LandContour\":\"Lvl\",\"Utilities\":\"AllPub\",\"LotConfig\":\"Corner\",\"LandSlope\":\"Gtl\",\"Neighborhood\":\"NAmes\",\"Condition1\":\"Norm\",\"Condition2\":\"Norm\",\"BldgType\":\"1Fam\",\"HouseStyle\":\"1Story\",\"OverallQual\":4,\"OverallCond\":5,\"YearBuilt\":1970,\"YearRemodAdd\":1970,\"RoofStyle\":\"Gable\",\"RoofMatl\":\"CompShg\",\"Exterior1st\":\"Plywood\",\"Exterior2nd\":\"Plywood\",\"MasVnrType\":\"None\",\"MasVnrArea\":0.0,\"ExterQual\":\"TA\",\"ExterCond\":\"TA\",\"Foundation\":\"CBlock\",\"BsmtQual\":\"TA\",\"BsmtCond\":\"TA\",\"BsmtExposure\":\"No\",\"BsmtFinType1\":\"ALQ\",\"BsmtFinSF1\":804.0,\"BsmtFinType2\":\"Rec\",\"BsmtFinSF2\":78.0,\"BsmtUnfSF\":0.0,\"TotalBsmtSF\":882.0,\"Heating\":\"GasA\",\"HeatingQC\":\"TA\",\"CentralAir\":\"Y\",\"Electrical\":\"SBrkr\",\"1stFlrSF\":882,\"2ndFlrSF\":0,\"LowQualFinSF\":0,\"GrLivArea\":882,\"BsmtFullBath\":1.0,\"BsmtHalfBath\":0.0,\"FullBath\":1,\"HalfBath\":0,\"BedroomAbvGr\":2,\"KitchenAbvGr\":1,\"KitchenQual\":\"TA\",\"TotRmsAbvGrd\":4,\"Functional\":\"Typ\",\"Fireplaces\":0,\"FireplaceQu\":null,\"GarageType\":\"Attchd\",\"GarageYrBlt\":1970.0,\"GarageFinish\":\"Fin\",\"GarageCars\":2.0,\"GarageArea\":525.0,\"GarageQual\":\"TA\",\"GarageCond\":\"TA\",\"PavedDrive\":\"Y\",\"WoodDeckSF\":240,\"OpenPorchSF\":0,\"EnclosedPorch\":0,\"3SsnPorch\":0,\"ScreenPorch\":0,\"PoolArea\":0,\"PoolQC\":null,\"Fence\":\"MnPrv\",\"MiscFeature\":null,\"MiscVal\":0,\"MoSold\":4,\"YrSold\":2010,\"SaleType\":\"WD\",\"SaleCondition\":\"Normal\"}']\n"
     ]
    }
   ],
   "source": [
    "#print(request)\n",
    "print(request.splitlines())"
   ]
  },
  {
   "cell_type": "code",
   "execution_count": 152,
   "id": "6651b8aa-fa1c-419f-9804-e27b84272f66",
   "metadata": {
    "collapsed": true,
    "jupyter": {
     "outputs_hidden": true
    },
    "tags": []
   },
   "outputs": [
    {
     "data": {
      "text/plain": [
       "Prediction(predictions=[117559.0390625, 155208.421875, 179901.609375, 178279.078125, 204086.515625, 178206.5, 172657.609375, 171097.8125, 175429.265625, 114578.828125, 216522.75, 97140.9375, 94648.1875, 153068.328125, 164014.5625, 405270.71875, 250115.234375, 331740.90625, 294255.34375, 513644.78125, 338938.15625, 216631.40625, 182557.84375, 172815.109375, 167922.46875, 197518.640625, 430723.5625, 238339.78125, 179129.15625, 187817.078125, 199417.046875, 102560.9765625, 160195.609375, 297545.375, 251044.828125, 242561.296875, 170523.4375, 160668.828125, 160185.828125, 140382.765625, 172993.03125, 148131.984375, 294549.5625, 230164.15625, 223225.5625, 199261.15625, 230001.78125, 210165.6875, 178455.140625, 151753.640625, 153670.34375, 174244.4375, 176971.515625, 135538.09375, 212039.390625, 169700.59375, 148034.546875, 154145.765625, 209872.453125, 147771.90625, 141599.890625, 179412.796875, 114927.1640625, 120221.953125, 122353.5625, 111293.0078125, 99411.859375, 127387.59375, 156061.421875, 169733.125, 113556.8125, 107771.296875, 159544.125, 111413.75, 145364.28125, 129210.1640625, 64172.38671875, 169628.109375, 201868.375, 95380.6953125, 151687.796875, 124899.6328125, 229404.1875, 77755.15625, 97205.625, 109671.0625, 117200.4921875, 130030.6015625, 104262.34375, 130683.765625, 126471.0078125, 129647.3671875, 119554.46875, 122053.9296875, 149447.515625, 95689.5546875, 112077.78125, 83476.3203125, 110335.3359375, 146060.484375, 114195.2734375, 124531.0390625, 115826.78125, 162177.796875, 150215.546875, 215062.640625, 64749.015625, 203265.078125, 112356.34375, 139047.421875, 129431.9140625, 149507.09375, 239502.046875, 137747.765625, 192958.59375, 199938.046875, 193070.140625, 180728.578125, 138717.890625, 201301.625, 143873.390625, 136471.703125, 289614.875, 238178.90625, 144215.578125, 66897.0703125, 96446.7734375, 142057.328125, 96844.4765625, 137641.0, 107741.0859375, 118886.609375, 145296.375, 143677.171875, 107971.796875, 266220.875, 171407.625, 201300.28125, 178535.828125, 184854.46875, 74483.6640625, 89404.6953125, 112684.390625, 273590.875, 243940.890625, 175490.84375, 189023.875, 186890.109375, 185684.0, 150923.3125, 156116.203125, 181045.125, 165007.515625, 116480.671875, 93966.6328125, 78206.4921875, 95078.7265625, 114816.625, 136726.25, 157961.421875, 127458.6796875, 126462.0859375, 246715.890625, 179032.84375, 121996.6796875, 166693.875, 179325.71875, 273902.84375, 156582.609375, 372777.59375, 244047.921875, 267446.4375, 164016.59375, 164024.40625, 176205.9375, 161272.90625, 181520.390625, 200551.0625, 184580.1875, 264675.40625, 173487.015625, 220602.171875, 227563.390625, 220741.5, 213609.109375, 161029.015625, 171127.1875, 159466.25, 138885.734375, 108787.0859375, 120599.8671875, 97140.9375, 97817.4296875, 164520.25, 168360.21875, 154366.125, 164520.25, 154366.125, 164014.5625, 144869.9375, 501046.65625, 424545.125, 400792.21875, 522422.59375, 350437.375, 305993.46875, 388781.71875, 346465.3125, 313952.40625, 355817.8125, 231385.40625, 483789.4375, 308511.96875, 253397.015625, 184212.828125, 184275.203125, 186420.171875, 474486.875, 379468.59375, 348032.375, 279289.125, 308739.46875, 209321.765625, 176856.78125, 186437.78125, 187679.203125, 161562.46875, 178736.671875, 181875.609375, 183571.3125, 172456.03125, 274902.53125, 167937.203125, 178280.953125, 171260.234375, 259066.953125, 177907.96875, 372020.40625, 317899.28125, 243949.734375, 246645.796875, 262238.28125, 261124.75, 265487.15625, 223409.5625, 446876.03125, 198691.6875, 190956.78125, 284178.5, 209979.5625, 268524.9375, 261158.125, 224567.984375, 227331.9375, 204630.0625, 177359.953125, 176727.796875, 123561.9296875, 194581.984375, 246684.609375, 182090.8125, 120509.7265625, 153142.203125, 228568.453125, 211622.015625, 176142.921875, 175315.546875, 187922.0625, 159781.96875, 172282.4375, 132367.8125, 135059.90625, 120412.65625, 129731.21875, 137910.09375, 123953.421875, 321656.6875, 216463.296875, 358621.875, 203156.359375, 165639.265625, 169153.8125, 176995.3125, 260792.0, 244864.578125, 240058.1875, 202146.75, 245239.203125, 159834.25, 139996.921875, 250280.578125, 119184.1484375, 176762.53125, 216239.21875, 170379.40625, 124046.1328125, 127954.3671875, 147033.75, 184401.59375, 159246.953125, 149108.6875, 177908.984375, 179387.640625, 118241.09375, 172578.921875, 181771.734375, 212138.09375, 144062.171875, 190827.890625, 137427.859375, 125771.59375, 143552.6875, 141738.515625, 146409.96875, 128880.46875, 119431.625, 118040.8828125, 134995.640625, 112389.25, 186140.734375, 159132.328125, 97925.421875, 150949.078125, 111212.265625, 134432.8125, 203572.5625, 173378.515625, 62257.296875, 104987.03125, 76648.7265625, 199363.046875, 159611.390625, 125911.6484375, 155639.171875, 145977.765625, 119119.4921875, 115471.859375, 137299.609375, 118324.2265625, 114457.0546875, 132625.078125, 159287.953125, 166509.578125, 140838.703125, 131546.671875, 138769.359375, 121946.421875, 130443.078125, 104998.6484375, 145592.375, 85222.25, 97424.8359375, 129407.7265625, 114059.109375, 54505.00390625, 94975.7734375, 115695.296875, 168484.390625, 114663.3203125, 72481.8515625, 114527.2578125, 159988.265625, 54463.17578125, 120999.625, 139408.4375, 88440.828125, 102886.0234375, 128564.484375, 122005.6328125, 150863.453125, 186206.78125, 87884.65625, 138904.9375, 118068.578125, 145902.890625, 137064.390625, 90577.0078125, 135015.609375, 84582.3515625, 138294.015625, 134032.25, 77785.4921875, 126836.265625, 126637.328125, 116159.078125, 152525.953125, 165614.46875, 57783.109375, 122072.5546875, 124966.3515625, 148969.109375, 139855.078125, 140188.640625, 168687.609375, 144403.171875, 219948.4375, 197622.65625, 137204.0625, 128734.78125, 137650.1875, 128734.78125, 310910.59375, 310910.59375, 310910.59375, 310446.3125, 362888.96875, 231886.421875, 263111.28125, 190480.984375, 200309.265625, 274860.84375, 161909.515625, 235833.890625, 136522.734375, 208040.53125, 191298.546875, 205600.3125, 223563.015625, 122669.8359375, 143561.03125, 220799.8125, 247556.125, 201928.0625, 217468.6875, 220998.265625, 262511.28125, 202726.5, 241585.21875, 153099.125, 133920.703125, 132117.84375, 110416.8046875, 139197.21875, 121933.515625, 137004.40625, 123134.6875, 95656.984375, 111331.1171875, 156859.40625, 148767.375, 165435.140625, 123416.2578125, 233718.046875, 156084.203125, 193334.171875, 143181.609375, 217509.96875, 118454.2890625, 125334.9140625, 125334.9140625, 188571.234375, 323368.625, 127328.8046875, 64736.234375, 273590.875, 63236.984375, 265872.28125, 123730.3203125, 168166.0625, 162115.78125, 419689.09375, 334160.125, 212873.34375, 210523.15625, 213433.984375, 391705.8125, 136590.84375, 153420.09375, 121253.0625, 111035.0703125, 128556.8828125, 132330.578125, 171040.0625, 190700.1875, 171165.21875, 166220.96875, 192592.921875, 173510.671875, 270727.8125, 213590.375, 183517.921875, 190599.640625, 206346.15625, 340443.25, 377914.5625, 151008.125, 324984.90625, 178898.171875, 233219.75, 193848.71875, 267619.15625, 230150.765625, 164765.65625, 210490.4375, 139628.25, 347011.59375, 172761.21875, 290835.1875, 149843.6875, 115405.0390625, 130998.3359375, 97140.9375, 97817.4296875, 107660.453125, 153068.328125, 168571.171875, 260455.46875, 445486.71875, 429241.59375, 495018.53125, 491304.0, 385802.90625, 271832.5, 320378.21875, 483789.4375, 263827.125, 370131.375, 440740.6875, 349849.65625, 185105.3125, 330521.0, 222439.90625, 222439.90625, 165222.609375, 199465.171875, 187065.578125, 166571.671875, 169329.265625, 202968.890625, 209121.4375, 218211.390625, 226286.765625, 163348.640625, 221143.515625, 189715.03125, 235657.859375, 358244.15625, 340880.875, 255284.84375, 314127.625, 243164.171875, 239946.9375, 247123.984375, 244141.734375, 216243.546875, 210750.953125, 258124.390625, 195509.625, 179095.515625, 200811.15625, 124860.921875, 175494.703125, 175455.203125, 154383.359375, 176596.21875, 183902.3125, 202126.703125, 122532.1015625, 130213.640625, 95355.046875, 102735.6171875, 165577.203125, 151224.578125, 219354.578125, 413017.71875, 190159.359375, 144284.09375, 146269.4375, 169167.203125, 307400.34375, 231328.484375, 275139.09375, 285830.21875, 166518.3125, 206665.796875, 203714.140625, 199048.625, 290677.96875, 203743.09375, 324961.65625, 242572.390625, 205072.171875, 171738.796875, 191543.53125, 252202.421875, 163240.71875, 151747.40625, 141621.09375, 159232.0625, 191270.28125, 98391.984375, 131012.328125, 152584.0, 97968.109375, 168405.34375, 125685.265625, 124965.7578125, 219665.4375, 115017.0703125, 152569.890625, 172549.96875, 145043.84375, 99475.2109375, 158868.03125, 119926.171875, 175745.75, 121955.84375, 152023.203125, 78741.515625, 125658.0546875, 98184.078125, 149467.328125, 133450.0, 199187.25, 139756.140625, 120539.2734375, 139965.546875, 126223.3984375, 148084.671875, 139238.109375, 123930.84375, 120904.0, 155888.125, 121592.1171875, 144223.140625, 80736.375, 137786.25, 104353.5625, 78790.4140625, 132246.171875, 101839.4375, 129955.6015625, 115191.390625, 127402.65625, 119046.015625, 78061.265625, 102740.90625, 152939.328125, 61183.0546875, 82163.1796875, 118791.0703125, 129132.6796875, 109773.609375, 121390.3984375, 109213.6015625, 82585.4296875, 275815.59375, 116298.4140625, 104736.1171875, 133924.796875, 142415.984375, 157111.96875, 114098.0625, 105788.859375, 125176.0390625, 121844.9375, 132864.96875, 108840.21875, 120969.8515625, 103166.6328125, 88451.7109375, 111263.9296875, 79686.1796875, 173118.125, 136396.359375, 155003.703125, 167187.265625, 142015.75, 139536.0, 118251.125, 172362.640625, 140350.234375, 127025.46875, 121181.046875, 106287.8203125, 72641.2890625, 103941.375, 126696.3984375, 148876.515625, 134638.21875, 140122.484375, 131027.078125, 151331.046875, 141502.6875, 130021.796875, 154049.5, 146837.4375, 142786.84375, 143444.15625, 236049.234375, 122890.203125, 142815.171875, 155449.296875, 87858.84375, 119784.203125, 223904.625, 227477.890625, 210812.859375, 199080.140625, 169152.53125, 267632.9375, 355738.0625, 346004.6875, 228897.40625, 210783.109375, 145397.0, 192173.6875, 199499.21875, 195607.15625, 218926.5625, 144171.859375, 133061.765625, 155589.296875, 237589.515625, 313383.46875, 293213.53125, 235663.46875, 224906.609375, 144215.578125, 142822.25, 198787.21875, 222267.9375, 192405.84375, 125595.7578125, 110582.9921875, 159576.6875, 154285.921875, 166428.28125, 203418.078125, 80263.546875, 81054.765625, 76248.5390625, 97474.3671875, 102680.1796875, 108015.3671875, 95700.0546875, 128147.4375, 196666.984375, 169268.875, 136509.578125, 165972.125, 235277.0, 172729.75, 188163.265625, 113981.6875, 127293.109375, 214987.59375, 253938.421875, 212747.3125, 118454.2890625, 112449.0703125, 121598.7265625, 102748.3515625, 112523.5234375, 98716.8046875, 140284.140625, 73164.0546875, 104362.71875, 88886.2734375, 83471.625, 273590.875, 239709.53125, 305702.65625, 226904.8125, 129747.3046875, 151092.828125, 197337.140625, 275934.5, 221015.328125, 150923.3125, 199371.984375, 187618.890625, 162340.4375, 226440.6875, 202360.65625, 268761.90625, 357691.09375, 176148.640625, 111921.6171875, 143936.9375, 156185.75, 135870.3125, 120426.09375, 103018.859375, 95610.8359375, 154973.703125, 97584.8671875, 118227.8984375, 117668.515625, 133150.75, 132874.59375, 184304.71875, 151774.1875, 180337.40625, 168958.734375, 180480.71875, 189338.34375, 187110.71875, 198400.671875, 163105.328125, 206564.3125, 231339.734375, 331372.21875, 459257.3125, 169227.0625, 334821.09375, 333522.125, 379984.28125, 158844.09375, 174990.484375, 228264.578125, 205969.453125, 164890.0, 171183.171875, 179498.1875, 195750.484375, 185532.125, 153864.203125, 116232.109375, 127973.890625, 182752.765625, 186634.171875, 98105.171875, 110066.078125, 169717.421875, 127584.3125, 338358.4375, 301767.625, 339069.09375, 498287.125, 323370.1875, 434166.34375, 468799.71875, 484106.0625, 449704.0625, 256916.09375, 328545.21875, 344316.375, 434672.625, 354113.03125, 254038.46875, 231217.984375, 267219.25, 259708.140625, 181359.640625, 181359.640625, 184279.234375, 244936.28125, 295432.375, 214058.96875, 209321.765625, 173041.859375, 179529.515625, 163395.84375, 183191.984375, 182042.015625, 160238.390625, 173251.40625, 183060.640625, 185378.609375, 237604.234375, 173129.34375, 176252.140625, 164299.796875, 255431.6875, 161727.875, 220038.4375, 212419.484375, 161650.015625, 173248.265625, 387446.625, 414642.53125, 314452.53125, 272933.125, 265319.34375, 316010.6875, 188278.328125, 252584.90625, 247088.40625, 409021.15625, 221101.140625, 243584.96875, 223804.71875, 233136.140625, 253750.09375, 211082.4375, 186714.453125, 244098.203125, 161430.9375, 243197.578125, 230042.8125, 272137.28125, 223686.921875, 123784.140625, 145399.640625, 147492.296875, 216137.984375, 191824.328125, 109625.578125, 119401.8984375, 144980.234375, 260955.703125, 147180.21875, 132086.09375, 214701.5625, 188658.828125, 252302.984375, 222446.6875, 254561.09375, 169167.203125, 164071.65625, 188798.140625, 266162.5, 288333.9375, 266122.65625, 280880.28125, 336405.75, 151633.703125, 210283.765625, 148817.3125, 176388.515625, 210351.5625, 223257.0625, 242268.15625, 151852.21875, 130953.7421875, 126718.8671875, 102101.90625, 138617.25, 141308.09375, 139562.21875, 128215.40625, 172379.078125, 140935.84375, 211571.171875, 148859.1875, 223894.796875, 128682.984375, 56935.4609375, 59524.8515625, 119324.609375, 138834.21875, 148391.3125, 140016.28125, 175010.671875, 133634.15625, 132212.5, 145758.53125, 134414.984375, 190829.359375, 124888.90625, 144754.625, 149954.328125, 124674.9453125, 148590.40625, 140605.59375, 139558.359375, 134307.09375, 114403.90625, 121116.0, 153392.4375, 125316.7421875, 132705.15625, 174872.875, 168699.03125, 130802.09375, 138027.46875, 163716.234375, 115650.1796875, 129230.0078125, 98233.0625, 137533.796875, 140747.796875, 133815.765625, 140786.59375, 106314.375, 110379.75, 114792.5390625, 121712.1953125, 129508.46875, 100916.5234375, 109085.875, 113928.546875, 122766.625, 76014.390625, 151963.34375, 202084.6875, 114881.46875, 123859.59375, 152053.65625, 141238.3125, 243114.09375, 83853.8046875, 119205.75, 108369.2734375, 121893.8671875, 114281.9921875, 94401.90625, 105745.5859375, 133862.734375, 124054.296875, 126575.75, 117973.6953125, 157794.59375, 147883.421875, 142496.40625, 147068.671875, 73520.3515625, 86089.4375, 154740.0625, 191987.390625, 142010.609375, 103358.6640625, 92174.734375, 250331.1875, 110634.1484375, 122302.6953125, 170332.453125, 112087.1875, 144307.625, 107762.359375, 128140.8359375, 117933.7578125, 136178.140625, 136310.15625, 141088.34375, 171473.84375, 168019.0625, 170138.609375], deployed_model_id='2910574404490493952', model_version_id='3', model_resource_name='projects/737041112644/locations/europe-west2/models/8523678021310218240', explanations=None)"
      ]
     },
     "execution_count": 152,
     "metadata": {},
     "output_type": "execute_result"
    }
   ],
   "source": [
    "endpoint.predict(instances=request.splitlines())"
   ]
  },
  {
   "cell_type": "code",
   "execution_count": null,
   "id": "edd48112-24af-4ca0-918b-9fce26228352",
   "metadata": {},
   "outputs": [],
   "source": []
  },
  {
   "cell_type": "code",
   "execution_count": null,
   "id": "6912d686-7205-4b3c-8e18-b4ef73126cf9",
   "metadata": {},
   "outputs": [],
   "source": []
  },
  {
   "cell_type": "markdown",
   "id": "af247e9a-54eb-4983-9fc9-dfab0b289aab",
   "metadata": {},
   "source": [
    "## List All Models"
   ]
  },
  {
   "cell_type": "code",
   "execution_count": 30,
   "id": "f5f45948-0fd7-49cc-83ed-b3956eec22d9",
   "metadata": {
    "tags": []
   },
   "outputs": [
    {
     "name": "stdout",
     "output_type": "stream",
     "text": [
      "Using endpoint [https://europe-west2-aiplatform.googleapis.com/]\n",
      "MODEL_ID             DISPLAY_NAME\n",
      "8345117332959395840  test\n",
      "7775411980097028096  test\n"
     ]
    }
   ],
   "source": [
    "#DISPLAY_NAME = \"houseprice\"\n",
    "DISPLAY_NAME = \"test\"\n",
    "! gcloud ai models list --region={REGION} --filter={DISPLAY_NAME}"
   ]
  },
  {
   "cell_type": "markdown",
   "id": "db3fcc09-6085-422c-bed2-e29d3bcff953",
   "metadata": {},
   "source": [
    "## Trigger the Pipeline"
   ]
  },
  {
   "cell_type": "markdown",
   "id": "5046e3b9-74f5-4a8f-9e0e-3594eda15bf5",
   "metadata": {},
   "source": [
    "### Schedule the Pipeline"
   ]
  },
  {
   "cell_type": "markdown",
   "id": "348d2ade-5d6c-46a7-9cb5-fbd97830fa96",
   "metadata": {},
   "source": [
    "The scheduled pipelines are supported by Cloud Scheduler and Cloud Functions. Check that APIs Cloud Scheduler and Cloud Functions are enabled."
   ]
  },
  {
   "cell_type": "markdown",
   "id": "b7ba6e32-638a-4a0b-afa9-fcecbcf6b23e",
   "metadata": {},
   "source": [
    "### Run Recurrent Pipeline"
   ]
  },
  {
   "cell_type": "code",
   "execution_count": null,
   "id": "949e6d8c-26d2-4f40-a0a2-2a27fe7a01ed",
   "metadata": {
    "execution": {
     "iopub.execute_input": "2022-09-10T19:35:15.578611Z",
     "iopub.status.busy": "2022-09-10T19:35:15.578222Z",
     "iopub.status.idle": "2022-09-10T19:35:15.985587Z",
     "shell.execute_reply": "2022-09-10T19:35:15.984151Z",
     "shell.execute_reply.started": "2022-09-10T19:35:15.578581Z"
    },
    "tags": []
   },
   "outputs": [],
   "source": [
    "from kfp.v2.google.client import AIPlatformClient\n",
    "\n",
    "api_client = AIPlatformClient(\n",
    "                project_id=PROJECT_ID,\n",
    "                region=REGION,\n",
    "                )\n",
    "\n",
    "SERVICE_ACCOUNT = (\n",
    "    \"XXXXXX@developer.gserviceaccount.com\" # Replace the Xs with your generated service-account.\n",
    ")\n",
    "\n",
    "response = api_client.create_schedule_from_job_spec(\n",
    "    enable_caching=True,\n",
    "    job_spec_path=\"ml_houseprice.json\",\n",
    "    schedule=\"0 0 * * 1\", # once per week on Monday (use schedule parameter to mention the recurrence interval)\n",
    "    time_zone=\"Europe/London\",  # change this as necessary\n",
    "    parameter_values={\"display_name\": DISPLAY_NAME},\n",
    "    pipeline_root=PIPELINE_ROOT,  # this argument is necessary if you did not specify PIPELINE_ROOT as part of the pipeline definition.\n",
    "    #service_account=SERVICE_ACCOUNT,  \n",
    ")"
   ]
  },
  {
   "cell_type": "markdown",
   "id": "59c8c0ad-1024-4246-88d0-77d10f446a51",
   "metadata": {},
   "source": [
    "## Simulate Batch Predictions and Real-Time Predictions"
   ]
  },
  {
   "cell_type": "markdown",
   "id": "2f528c14-9574-41d4-af13-5aee436e1cbc",
   "metadata": {},
   "source": [
    "### Test the Batch Prediction"
   ]
  },
  {
   "cell_type": "code",
   "execution_count": null,
   "id": "8d989ae4-f781-41f7-afc6-469d6c085040",
   "metadata": {},
   "outputs": [],
   "source": [
    "# Define variables \n",
    "job_display_name = \"test-houseprice-batch-prediction-job\"\n",
    "MODEL_NAME=\"houseprice\"\n",
    "ENDPOINT_NAME=\"houseprice_endpoint\"  # endpoint where the model is deployed\n",
    "BUCKET_URI=\"gs://your-bucket-houseprice/pipeline_root_houseprice/332188XXXX/pipeline-houseprice-20211227155508/get-houseprice-data_8271177375014715392\" # bucket containing batch instances ready for prediction\n",
    "input_file_name=\"test.csv\"\n",
    "\n",
    "# Get model id\n",
    "MODEL_ID=!(gcloud ai models list --region=$REGION \\\n",
    "           --filter=display_name=$MODEL_NAME)  # ids of the prediction/uploaded models\n",
    "MODEL_ID=MODEL_ID[2].split(\" \")[0]  # we use the latest uploaded model\n",
    "\n",
    "model_resource_name = f'projects/{PROJECT_ID}/locations/{REGION}/models/{MODEL_ID}'\n",
    "gcs_source= [f\"{BUCKET_URI}/{input_file_name}\"]\n",
    "gcs_destination_prefix=f\"{BUCKET_URI}/output\" # google storage destination where we save the prediction output\n",
    "\n",
    "def batch_prediction_job(\n",
    "    project: str,\n",
    "    location: str,\n",
    "    model_resource_name: str,\n",
    "    job_display_name: str,\n",
    "    gcs_source: str,\n",
    "    gcs_destination_prefix: str,\n",
    "    machine_type: str,\n",
    "    starting_replica_count: int = 1, # The number of nodes for this batch prediction job. \n",
    "    max_replica_count: int = 1,    \n",
    "):   \n",
    "    aiplatform.init(project=project, location=location)\n",
    "\n",
    "    model = aiplatform.Model(model_resource_name)\n",
    "\n",
    "    batch_prediction_job = model.batch_predict(\n",
    "        job_display_name=job_display_name,\n",
    "        instances_format='csv', #json\n",
    "        gcs_source=[f\"{BUCKET_URI}/{input_file_name}\"],\n",
    "        gcs_destination_prefix=f\"{BUCKET_URI}/output\",\n",
    "        machine_type=machine_type, # must be present      \n",
    "    )\n",
    "    batch_prediction_job.wait()\n",
    "    print(batch_prediction_job.display_name)\n",
    "    print(batch_prediction_job.state)\n",
    "    return batch_prediction_job\n",
    "\n",
    "batch_prediction_job(PROJECT_ID, REGION, model_resource_name, job_display_name, gcs_source, gcs_destination_prefix, machine_type=\"n1-standard-2\")"
   ]
  },
  {
   "cell_type": "markdown",
   "id": "182ae8f5-e51c-43c3-ae4d-6c8f891e55b9",
   "metadata": {},
   "source": [
    "### Send an Online Prediction Request"
   ]
  },
  {
   "cell_type": "markdown",
   "id": "2e6a54b5-0b93-4033-86f7-89759e629381",
   "metadata": {},
   "source": [
    "Each prediction request must be max. 1.5 MB."
   ]
  },
  {
   "cell_type": "code",
   "execution_count": null,
   "id": "a111fc0c-9c37-4488-aff7-803e17ac3ddf",
   "metadata": {},
   "outputs": [],
   "source": [
    "ENDPOINT_NAME=\"houseprice_endpoint\"\n",
    "instance = [[1,2,3,2,1,2,3,6,7,10]]  # input data to make prediction on\n",
    "ENDPOINT_ID = !(gcloud ai endpoints list --region=$REGION \\\n",
    "              --format='value(ENDPOINT_ID)'\\\n",
    "              --filter=display_name=$ENDPOINT_NAME \\\n",
    "              --sort-by=creationTimeStamp | tail -1)\n",
    "ENDPOINT_ID = ENDPOINT_ID[1]\n",
    "\n",
    "def endpoint_predict(\n",
    "    project: str, location: str, instances: list, endpoint: str\n",
    "):\n",
    "    aiplatform.init(project=project, location=location)\n",
    "\n",
    "    endpoint = aiplatform.Endpoint(endpoint)\n",
    "\n",
    "    prediction = endpoint.predict(instances=instances)\n",
    "    return prediction\n",
    "\n",
    "endpoint_predict(PROJECT_ID, REGION, instance, ENDPOINT_ID)"
   ]
  }
 ],
 "metadata": {
  "environment": {
   "kernel": "vertex_env",
   "name": "common-cpu.m97",
   "type": "gcloud",
   "uri": "gcr.io/deeplearning-platform-release/base-cpu:m97"
  },
  "kernelspec": {
   "display_name": "vertex_env",
   "language": "python",
   "name": "vertex_env"
  },
  "language_info": {
   "codemirror_mode": {
    "name": "ipython",
    "version": 3
   },
   "file_extension": ".py",
   "mimetype": "text/x-python",
   "name": "python",
   "nbconvert_exporter": "python",
   "pygments_lexer": "ipython3",
   "version": "3.7.12"
  }
 },
 "nbformat": 4,
 "nbformat_minor": 5
}
