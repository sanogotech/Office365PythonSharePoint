{
 "cells": [
  {
   "cell_type": "markdown",
   "id": "8f6dcfef-a5ec-47fb-90ee-07200b176608",
   "metadata": {},
   "source": [
    "### Check connection using requests"
   ]
  },
  {
   "cell_type": "code",
   "execution_count": 5,
   "id": "a9a19aa2-9450-4d1f-9d2c-462ca0bed672",
   "metadata": {},
   "outputs": [],
   "source": [
    "import requests"
   ]
  },
  {
   "cell_type": "code",
   "execution_count": 10,
   "id": "4a81cf51-cdde-45b4-9b25-c89fa83ceb68",
   "metadata": {},
   "outputs": [],
   "source": [
    "r = requests.get(\"https://api.stlouisfed.org/fred/releases?api_key=e9724483336fc11e723022dfc4adda19\", timeout=15)"
   ]
  },
  {
   "cell_type": "markdown",
   "id": "d56b1f1f-832c-415c-aae2-0b0792c0a53c",
   "metadata": {},
   "source": [
    "### Check connection using fredapi lib"
   ]
  },
  {
   "cell_type": "code",
   "execution_count": null,
   "id": "ec5d24bc-eb89-4bd4-a0c2-618fa276765d",
   "metadata": {},
   "outputs": [],
   "source": [
    "from fredapi import Fred"
   ]
  },
  {
   "cell_type": "code",
   "execution_count": 9,
   "id": "2991bc25-ade6-4d71-8e5d-4acdf0f19655",
   "metadata": {},
   "outputs": [],
   "source": [
    "fred = Fred(api_key='e9724483336fc11e723022dfc4adda19')\n",
    "data = fred.get_series('SP500')"
   ]
  },
  {
   "cell_type": "code",
   "execution_count": null,
   "id": "3ce3aaee-45e6-44b6-b462-acbd428af1e3",
   "metadata": {},
   "outputs": [],
   "source": []
  }
 ],
 "metadata": {
  "environment": {
   "kernel": "vertex_env",
   "name": "common-cpu.m96",
   "type": "gcloud",
   "uri": "gcr.io/deeplearning-platform-release/base-cpu:m96"
  },
  "kernelspec": {
   "display_name": "vertex_env",
   "language": "python",
   "name": "vertex_env"
  },
  "language_info": {
   "codemirror_mode": {
    "name": "ipython",
    "version": 3
   },
   "file_extension": ".py",
   "mimetype": "text/x-python",
   "name": "python",
   "nbconvert_exporter": "python",
   "pygments_lexer": "ipython3",
   "version": "3.8.10"
  }
 },
 "nbformat": 4,
 "nbformat_minor": 5
}
